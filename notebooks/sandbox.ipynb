{
 "cells": [
  {
   "cell_type": "code",
   "execution_count": 1,
   "metadata": {},
   "outputs": [
    {
     "name": "stdout",
     "output_type": "stream",
     "text": [
      "/Users/nicolas.peruchot/workdir/peafowl\n"
     ]
    }
   ],
   "source": [
    "cd .."
   ]
  },
  {
   "cell_type": "code",
   "execution_count": 2,
   "metadata": {},
   "outputs": [],
   "source": [
    "from datasets import load_dataset\n",
    "import tomotopy as tp\n",
    "import pyLDAvis\n",
    "import pandas as pd\n",
    "import numpy as np\n",
    "\n",
    "from peafowl.viz.utils import prepare_viz_LDA\n",
    "from peafowl.preprocessing.utils import lemmatizer_dataset"
   ]
  },
  {
   "cell_type": "code",
   "execution_count": 3,
   "metadata": {},
   "outputs": [
    {
     "name": "stderr",
     "output_type": "stream",
     "text": [
      "Reusing dataset amazon_reviews_multi (/Users/nicolas.peruchot/.cache/huggingface/datasets/amazon_reviews_multi/en/1.0.0/724e94f4b0c6c405ce7e476a6c5ef4f87db30799ad49f765094cf9770e0f7609)\n",
      "100%|██████████| 3/3 [00:00<00:00, 310.43it/s]\n"
     ]
    }
   ],
   "source": [
    "mdl = tp.LDAModel(k=2)\n",
    "data = load_dataset('amazon_reviews_multi','en')['train']['review_body'][:1000]\n",
    "data=pd.Series(data)"
   ]
  },
  {
   "cell_type": "code",
   "execution_count": 4,
   "metadata": {},
   "outputs": [
    {
     "data": {
      "text/plain": [
       "1    1000\n",
       "5    1000\n",
       "dtype: int64"
      ]
     },
     "execution_count": 4,
     "metadata": {},
     "output_type": "execute_result"
    }
   ],
   "source": [
    "stars.value_counts()"
   ]
  },
  {
   "cell_type": "code",
   "execution_count": 5,
   "metadata": {},
   "outputs": [],
   "source": [
    "data=lemmatizer_dataset(data)"
   ]
  },
  {
   "cell_type": "code",
   "execution_count": 6,
   "metadata": {},
   "outputs": [],
   "source": [
    "for x in data:\n",
    "    mdl.add_doc(x)"
   ]
  },
  {
   "cell_type": "code",
   "execution_count": 7,
   "metadata": {},
   "outputs": [],
   "source": [
    "negative=['break','return','waste','waste']\n",
    "positive=['great','love','good','work']"
   ]
  },
  {
   "cell_type": "code",
   "execution_count": 8,
   "metadata": {},
   "outputs": [],
   "source": [
    "for word in negative:\n",
    "\n",
    "    mdl.set_word_prior(word, [1.0 if k == 0 else 0 for k in range(n)])\n",
    "\n",
    "for word in positive:\n",
    "\n",
    "    mdl.set_word_prior(word, [1.0 if k == 1 else 0 for k in range(n)])"
   ]
  },
  {
   "cell_type": "code",
   "execution_count": 9,
   "metadata": {},
   "outputs": [],
   "source": [
    "for i in range(0, 100, 10):\n",
    "    mdl.train(10)"
   ]
  },
  {
   "cell_type": "code",
   "execution_count": 10,
   "metadata": {},
   "outputs": [],
   "source": [
    "prepared_data = prepare_viz_LDA(model=mdl)"
   ]
  },
  {
   "cell_type": "code",
   "execution_count": 11,
   "metadata": {},
   "outputs": [],
   "source": [
    "def verif(i):\n",
    "    mapping={0:1,1:5}\n",
    "    pred=mapping[np.argmax(mdl.infer(mdl.make_doc(data[i]))[0])]\n",
    "    return pred==stars[i]"
   ]
  },
  {
   "cell_type": "code",
   "execution_count": 12,
   "metadata": {},
   "outputs": [
    {
     "name": "stdout",
     "output_type": "stream",
     "text": [
      "76.25\n"
     ]
    }
   ],
   "source": [
    "good=0\n",
    "for x in range (len(data)):\n",
    "    good+=verif(x)\n",
    "print(good*100/len(data))\n"
   ]
  },
  {
   "cell_type": "code",
   "execution_count": 13,
   "metadata": {},
   "outputs": [
    {
     "data": {
      "text/html": [
       "\n",
       "<link rel=\"stylesheet\" type=\"text/css\" href=\"https://cdn.jsdelivr.net/gh/bmabey/pyLDAvis@3.3.1/pyLDAvis/js/ldavis.v1.0.0.css\">\n",
       "\n",
       "\n",
       "<div id=\"ldavis_el8118053346617123077748613\"></div>\n",
       "<script type=\"text/javascript\">\n",
       "\n",
       "var ldavis_el8118053346617123077748613_data = {\"mdsDat\": {\"x\": [0.3124367794510318, -0.3124367794510318], \"y\": [0.0, 0.0], \"topics\": [1, 2], \"cluster\": [1, 1], \"Freq\": [50.63946758698356, 49.36053241301645]}, \"tinfo\": {\"Term\": [\"work\", \"great\", \"love\", \"good\", \"time\", \"easy\", \"order\", \"receive\", \"quality\", \"fit\", \"try\", \"return\", \"day\", \"money\", \"light\", \"purchase\", \"month\", \"recommend\", \"item\", \"product\", \"break\", \"look\", \"need\", \"nice\", \"perfect\", \"small\", \"color\", \"price\", \"box\", \"get\", \"time\", \"order\", \"receive\", \"try\", \"return\", \"day\", \"money\", \"month\", \"item\", \"break\", \"box\", \"waste\", \"week\", \"2\", \"send\", \"charge\", \"thing\", \"find\", \"cheap\", \"take\", \"picture\", \"3\", \"new\", \"Amazon\", \"start\", \"right\", \"fall\", \"think\", \"say\", \"water\", \"get\", \"product\", \"come\", \"buy\", \"go\", \"like\", \"use\", \"work\", \"great\", \"love\", \"good\", \"easy\", \"quality\", \"fit\", \"light\", \"recommend\", \"need\", \"nice\", \"perfect\", \"small\", \"color\", \"price\", \"little\", \"size\", \"year\", \"case\", \"feel\", \"book\", \"old\", \"well\", \"wear\", \"read\", \"far\", \"set\", \"clean\", \"gift\", \"happy\", \"purchase\", \"look\", \"like\", \"use\", \"buy\", \"product\"], \"Freq\": [395.0, 297.0, 272.0, 254.0, 185.0, 153.0, 157.0, 154.0, 137.0, 135.0, 125.0, 124.0, 122.0, 121.0, 112.0, 137.0, 104.0, 96.0, 98.0, 334.0, 96.0, 184.0, 92.0, 89.0, 89.0, 89.0, 88.0, 85.0, 84.0, 141.0, 185.42064459664803, 157.50935916588315, 154.5188656609537, 125.6107617799689, 124.61393061165907, 122.62025555694953, 121.6234243886397, 104.67729452737275, 98.69630115846888, 96.70263882184923, 84.74065844308645, 81.75016493815698, 80.75333376984716, 79.75650260153733, 76.76600909660787, 75.7691715692531, 73.77550923263347, 71.78184689601382, 69.78818455939418, 68.79135339108436, 68.79135339108436, 68.79135339108436, 66.79769105446472, 64.80402871784507, 63.80719754953525, 63.80719754953525, 61.813528853870665, 60.81669768556085, 58.823035348941204, 57.82620418063138, 130.5949049034281, 272.1450198300519, 123.61708672525936, 144.5505539778555, 75.7691715692531, 78.75967143322752, 65.8008598861549, 395.4859912876102, 297.8621780213788, 272.95814883184687, 254.03107970554663, 153.41878640769937, 137.48020970990063, 135.48788142423297, 112.57618052036868, 96.63760382256994, 92.65295964812026, 89.66447341806158, 89.66447341806158, 89.66447341806158, 88.66831547367057, 85.67982924361189, 79.70286298193737, 74.72205466465385, 73.72589672026284, 73.72589672026284, 71.733574633038, 68.74508840297932, 67.74892426014549, 62.768115942861975, 61.77195799847097, 56.79114968118745, 55.79499173679643, 55.79499173679643, 55.79499173679643, 52.806505506737764, 51.81034446312534, 131.50323724978327, 163.3804030422664, 203.22684478676325, 138.4763614558488, 170.35352724833194, 62.768115942861975], \"Total\": [395.0, 297.0, 272.0, 254.0, 185.0, 153.0, 157.0, 154.0, 137.0, 135.0, 125.0, 124.0, 122.0, 121.0, 112.0, 137.0, 104.0, 96.0, 98.0, 334.0, 96.0, 184.0, 92.0, 89.0, 89.0, 89.0, 88.0, 85.0, 84.0, 141.0, 185.43060620853691, 157.51932077777204, 154.5288272728426, 125.62072339185778, 124.62389222354795, 122.63021716883841, 121.63338600052859, 104.68725613926163, 98.70626277035777, 96.71260043373812, 84.75062005497533, 81.76012655004587, 80.76329538173604, 79.76646421342622, 76.77597070849676, 75.77913318114199, 73.78547084452235, 71.7918085079027, 69.79814617128307, 68.80131500297324, 68.80131500297324, 68.80131500297324, 66.8076526663536, 64.81399032973395, 63.81715916142414, 63.81715916142414, 61.82349046575955, 60.82665929744973, 58.83299696083009, 57.83616579252026, 141.56264038000134, 334.9131357729139, 151.51956304246517, 314.90408122618743, 94.70619694433643, 281.9865162199908, 204.2772213420037, 395.49595960367134, 297.8721463374399, 272.968117147908, 254.0410480216078, 153.42875472376053, 137.4901780259618, 135.49784974029413, 112.58614883642983, 96.64757213863109, 92.6629279641814, 89.67444173412272, 89.67444173412272, 89.67444173412272, 88.67828378973172, 85.68979755967304, 79.71283129799852, 74.732022980715, 73.73586503632399, 73.73586503632399, 71.74354294909915, 68.75505671904047, 67.75889257620663, 62.77808425892313, 61.78192631453212, 56.8011179972486, 55.80496005285759, 55.80496005285759, 55.80496005285759, 52.81647382279892, 51.820312779186494, 137.49419563956448, 184.32383650806082, 281.9865162199908, 204.2772213420037, 314.90408122618743, 334.9131357729139], \"Category\": [\"Default\", \"Default\", \"Default\", \"Default\", \"Default\", \"Default\", \"Default\", \"Default\", \"Default\", \"Default\", \"Default\", \"Default\", \"Default\", \"Default\", \"Default\", \"Default\", \"Default\", \"Default\", \"Default\", \"Default\", \"Default\", \"Default\", \"Default\", \"Default\", \"Default\", \"Default\", \"Default\", \"Default\", \"Default\", \"Default\", \"Topic1\", \"Topic1\", \"Topic1\", \"Topic1\", \"Topic1\", \"Topic1\", \"Topic1\", \"Topic1\", \"Topic1\", \"Topic1\", \"Topic1\", \"Topic1\", \"Topic1\", \"Topic1\", \"Topic1\", \"Topic1\", \"Topic1\", \"Topic1\", \"Topic1\", \"Topic1\", \"Topic1\", \"Topic1\", \"Topic1\", \"Topic1\", \"Topic1\", \"Topic1\", \"Topic1\", \"Topic1\", \"Topic1\", \"Topic1\", \"Topic1\", \"Topic1\", \"Topic1\", \"Topic1\", \"Topic1\", \"Topic1\", \"Topic1\", \"Topic2\", \"Topic2\", \"Topic2\", \"Topic2\", \"Topic2\", \"Topic2\", \"Topic2\", \"Topic2\", \"Topic2\", \"Topic2\", \"Topic2\", \"Topic2\", \"Topic2\", \"Topic2\", \"Topic2\", \"Topic2\", \"Topic2\", \"Topic2\", \"Topic2\", \"Topic2\", \"Topic2\", \"Topic2\", \"Topic2\", \"Topic2\", \"Topic2\", \"Topic2\", \"Topic2\", \"Topic2\", \"Topic2\", \"Topic2\", \"Topic2\", \"Topic2\", \"Topic2\", \"Topic2\", \"Topic2\", \"Topic2\"], \"logprob\": [30.0, 29.0, 28.0, 27.0, 26.0, 25.0, 24.0, 23.0, 22.0, 21.0, 20.0, 19.0, 18.0, 17.0, 16.0, 15.0, 14.0, 13.0, 12.0, 11.0, 10.0, 9.0, 8.0, 7.0, 6.0, 5.0, 4.0, 3.0, 2.0, 1.0, -4.2993, -4.4624, -4.4816, -4.6887, -4.6967, -4.7128, -4.721, -4.871, -4.9299, -4.9503, -5.0823, -5.1183, -5.1305, -5.143, -5.1812, -5.1942, -5.2209, -5.2483, -5.2765, -5.2909, -5.2909, -5.2909, -5.3203, -5.3506, -5.3661, -5.3661, -5.3978, -5.4141, -5.4474, -5.4645, -4.6498, -3.9156, -4.7047, -4.5483, -5.1942, -5.1555, -5.3353, -3.5162, -3.7997, -3.887, -3.9589, -4.4632, -4.5729, -4.5875, -4.7727, -4.9254, -4.9675, -5.0003, -5.0003, -5.0003, -5.0114, -5.0457, -5.118, -5.1826, -5.196, -5.196, -5.2234, -5.2659, -5.2805, -5.3569, -5.3729, -5.457, -5.4747, -5.4747, -5.4747, -5.5297, -5.5488, -4.6173, -4.4003, -4.182, -4.5657, -4.3585, -5.3569], \"loglift\": [30.0, 29.0, 28.0, 27.0, 26.0, 25.0, 24.0, 23.0, 22.0, 21.0, 20.0, 19.0, 18.0, 17.0, 16.0, 15.0, 14.0, 13.0, 12.0, 11.0, 10.0, 9.0, 8.0, 7.0, 6.0, 5.0, 4.0, 3.0, 2.0, 1.0, 0.6804, 0.6804, 0.6804, 0.6804, 0.6804, 0.6804, 0.6804, 0.6803, 0.6803, 0.6803, 0.6803, 0.6803, 0.6803, 0.6803, 0.6803, 0.6803, 0.6803, 0.6803, 0.6803, 0.6803, 0.6803, 0.6803, 0.6803, 0.6803, 0.6803, 0.6803, 0.6803, 0.6803, 0.6803, 0.6803, 0.5998, 0.4729, 0.4769, -0.0982, 0.4574, -0.595, -0.4524, 0.706, 0.706, 0.706, 0.706, 0.706, 0.7059, 0.7059, 0.7059, 0.7059, 0.7059, 0.7059, 0.7059, 0.7059, 0.7059, 0.7059, 0.7059, 0.7059, 0.7059, 0.7059, 0.7059, 0.7059, 0.7059, 0.7059, 0.7059, 0.7058, 0.7058, 0.7058, 0.7058, 0.7058, 0.7058, 0.6615, 0.5854, 0.3785, 0.3172, 0.0916, -0.9684]}, \"token.table\": {\"Topic\": [1, 1, 1, 2, 1, 1, 1, 2, 2, 1, 1, 2, 2, 1, 2, 1, 2, 1, 2, 2, 1, 2, 1, 2, 2, 1, 2, 2, 2, 2, 1, 2, 1, 2, 2, 1, 2, 2, 1, 1, 2, 1, 2, 2, 1, 2, 1, 2, 1, 2, 1, 2, 2, 2, 1, 2, 1, 1, 1, 1, 2, 2, 2, 1, 1, 1, 1, 1, 1, 1, 2, 1, 1, 2, 1, 2, 2, 2], \"Freq\": [1.0029277439946307, 1.002887808133001, 1.002869899991032, 1.0035625493257967, 1.0029425146962099, 1.002971686884366, 0.4604576715404659, 0.5398469252543393, 1.0035821775949316, 1.0029146126326103, 1.002891965471713, 1.0034950288819788, 1.0036279029827766, 0.8183761720936822, 0.18479461950502502, 1.0030154299625227, 0.9972055125876992, 1.0028550561107223, 1.0034950288819788, 1.0035746359931346, 1.0028999338005864, 0.9963257738683798, 0.9253853958103092, 0.07770411720544582, 1.0034747904189292, 0.8024818063876961, 0.20062045159692402, 0.9998384197281208, 1.000429223289697, 1.003467505523928, 1.0029758722638058, 1.0036758621539799, 0.28015523954474625, 0.719892577564348, 1.0036025404859592, 0.11392992028506108, 0.8843131907840455, 1.0001168006447974, 1.0030140902224807, 1.002987411001797, 1.0036376147745827, 1.0028791212678434, 1.0036304465306016, 1.0035583141138589, 1.0030515572302785, 1.0036304465306016, 1.002887808133001, 1.0036200627047922, 0.8121508861462757, 0.18810847730593888, 0.0436382057590908, 0.9600405266999976, 0.9964348142318266, 1.0035013747926762, 1.0030490927516422, 1.0036465257592129, 1.0030179427856207, 1.0028650732965623, 1.0028385947987843, 1.002917961042184, 1.0034950288819788, 1.0035858392238914, 1.0036304465306016, 1.0028650732965623, 1.002887808133001, 1.0029074715255215, 1.0028497488527623, 0.997677804018757, 1.0030192200610015, 0.32309035518699314, 0.6755525608455312, 1.0029338683790723, 1.0028327294044261, 1.0035297326981627, 1.0029308439823454, 1.0035349237508044, 0.9987459806057984, 1.0035821775949316], \"Term\": [\"2\", \"3\", \"Amazon\", \"book\", \"box\", \"break\", \"buy\", \"buy\", \"case\", \"charge\", \"cheap\", \"clean\", \"color\", \"come\", \"come\", \"day\", \"easy\", \"fall\", \"far\", \"feel\", \"find\", \"fit\", \"get\", \"get\", \"gift\", \"go\", \"go\", \"good\", \"great\", \"happy\", \"item\", \"light\", \"like\", \"like\", \"little\", \"look\", \"look\", \"love\", \"money\", \"month\", \"need\", \"new\", \"nice\", \"old\", \"order\", \"perfect\", \"picture\", \"price\", \"product\", \"product\", \"purchase\", \"purchase\", \"quality\", \"read\", \"receive\", \"recommend\", \"return\", \"right\", \"say\", \"send\", \"set\", \"size\", \"small\", \"start\", \"take\", \"thing\", \"think\", \"time\", \"try\", \"use\", \"use\", \"waste\", \"water\", \"wear\", \"week\", \"well\", \"work\", \"year\"]}, \"R\": 30, \"lambda.step\": 0.01, \"plot.opts\": {\"xlab\": \"PC1\", \"ylab\": \"PC2\"}, \"topic.order\": [1, 2]};\n",
       "\n",
       "function LDAvis_load_lib(url, callback){\n",
       "  var s = document.createElement('script');\n",
       "  s.src = url;\n",
       "  s.async = true;\n",
       "  s.onreadystatechange = s.onload = callback;\n",
       "  s.onerror = function(){console.warn(\"failed to load library \" + url);};\n",
       "  document.getElementsByTagName(\"head\")[0].appendChild(s);\n",
       "}\n",
       "\n",
       "if(typeof(LDAvis) !== \"undefined\"){\n",
       "   // already loaded: just create the visualization\n",
       "   !function(LDAvis){\n",
       "       new LDAvis(\"#\" + \"ldavis_el8118053346617123077748613\", ldavis_el8118053346617123077748613_data);\n",
       "   }(LDAvis);\n",
       "}else if(typeof define === \"function\" && define.amd){\n",
       "   // require.js is available: use it to load d3/LDAvis\n",
       "   require.config({paths: {d3: \"https://d3js.org/d3.v5\"}});\n",
       "   require([\"d3\"], function(d3){\n",
       "      window.d3 = d3;\n",
       "      LDAvis_load_lib(\"https://cdn.jsdelivr.net/gh/bmabey/pyLDAvis@3.3.1/pyLDAvis/js/ldavis.v3.0.0.js\", function(){\n",
       "        new LDAvis(\"#\" + \"ldavis_el8118053346617123077748613\", ldavis_el8118053346617123077748613_data);\n",
       "      });\n",
       "    });\n",
       "}else{\n",
       "    // require.js not available: dynamically load d3 & LDAvis\n",
       "    LDAvis_load_lib(\"https://d3js.org/d3.v5.js\", function(){\n",
       "         LDAvis_load_lib(\"https://cdn.jsdelivr.net/gh/bmabey/pyLDAvis@3.3.1/pyLDAvis/js/ldavis.v3.0.0.js\", function(){\n",
       "                 new LDAvis(\"#\" + \"ldavis_el8118053346617123077748613\", ldavis_el8118053346617123077748613_data);\n",
       "            })\n",
       "         });\n",
       "}\n",
       "</script>"
      ],
      "text/plain": [
       "<IPython.core.display.HTML object>"
      ]
     },
     "execution_count": 13,
     "metadata": {},
     "output_type": "execute_result"
    }
   ],
   "source": [
    "pyLDAvis.display(prepared_data)"
   ]
  }
 ],
 "metadata": {
  "interpreter": {
   "hash": "fbe3056ddfc4b36596b2e3474972e3f1a3754ef1dc18c2bda31aeffbb1960dd1"
  },
  "kernelspec": {
   "display_name": "Python 3.9.5 64-bit ('venv': venv)",
   "name": "python3"
  },
  "language_info": {
   "codemirror_mode": {
    "name": "ipython",
    "version": 3
   },
   "file_extension": ".py",
   "mimetype": "text/x-python",
   "name": "python",
   "nbconvert_exporter": "python",
   "pygments_lexer": "ipython3",
   "version": "3.9.5"
  },
  "orig_nbformat": 4
 },
 "nbformat": 4,
 "nbformat_minor": 2
}
