{
 "cells": [
  {
   "cell_type": "code",
   "execution_count": 1,
   "metadata": {},
   "outputs": [
    {
     "name": "stdout",
     "output_type": "stream",
     "text": [
      "/Users/nicolas.peruchot/workdir/peafowl\n"
     ]
    }
   ],
   "source": [
    "cd .."
   ]
  },
  {
   "cell_type": "code",
   "execution_count": 2,
   "metadata": {},
   "outputs": [],
   "source": [
    "from datasets import load_dataset\n",
    "import tomotopy as tp\n",
    "import pyLDAvis\n",
    "import pandas as pd\n",
    "import numpy as np\n",
    "\n",
    "from peafowl.viz.utils import prepare_viz_LDA\n",
    "from peafowl.preprocessing.utils import lemmatizer_dataset"
   ]
  },
  {
   "cell_type": "code",
   "execution_count": 3,
   "metadata": {},
   "outputs": [
    {
     "name": "stderr",
     "output_type": "stream",
     "text": [
      "Reusing dataset amazon_reviews_multi (/Users/nicolas.peruchot/.cache/huggingface/datasets/amazon_reviews_multi/en/1.0.0/724e94f4b0c6c405ce7e476a6c5ef4f87db30799ad49f765094cf9770e0f7609)\n",
      "100%|██████████| 3/3 [00:00<00:00, 301.36it/s]\n"
     ]
    }
   ],
   "source": [
    "n=2\n",
    "mdl = tp.LDAModel(k=2)\n",
    "data = load_dataset('amazon_reviews_multi','en')['train']['review_body'][:1000]\n",
    "data=pd.Series(data)"
   ]
  },
  {
   "cell_type": "code",
   "execution_count": 4,
   "metadata": {},
   "outputs": [],
   "source": [
    "data=lemmatizer_dataset(data)"
   ]
  },
  {
   "cell_type": "code",
   "execution_count": 5,
   "metadata": {},
   "outputs": [],
   "source": [
    "for x in data:\n",
    "    mdl.add_doc(x)"
   ]
  },
  {
   "cell_type": "code",
   "execution_count": 6,
   "metadata": {},
   "outputs": [],
   "source": [
    "negative=['break','return','waste']\n",
    "positive=['great','love','good','work']"
   ]
  },
  {
   "cell_type": "code",
   "execution_count": 7,
   "metadata": {},
   "outputs": [],
   "source": [
    "for word in negative:\n",
    "\n",
    "    mdl.set_word_prior(word, [1.0 if k == 0 else 0 for k in range(n)])\n",
    "\n",
    "for word in positive:\n",
    "\n",
    "    mdl.set_word_prior(word, [1.0 if k == 1 else 0 for k in range(n)])"
   ]
  },
  {
   "cell_type": "code",
   "execution_count": 8,
   "metadata": {},
   "outputs": [],
   "source": [
    "for i in range(0, 100, 10):\n",
    "    mdl.train(10)"
   ]
  },
  {
   "cell_type": "code",
   "execution_count": 9,
   "metadata": {},
   "outputs": [],
   "source": [
    "prepared_data = prepare_viz_LDA(model=mdl)"
   ]
  },
  {
   "cell_type": "code",
   "execution_count": 10,
   "metadata": {},
   "outputs": [
    {
     "data": {
      "text/html": [
       "\n",
       "<link rel=\"stylesheet\" type=\"text/css\" href=\"https://cdn.jsdelivr.net/gh/bmabey/pyLDAvis@3.3.1/pyLDAvis/js/ldavis.v1.0.0.css\">\n",
       "\n",
       "\n",
       "<div id=\"ldavis_el1001652858827848875570525\"></div>\n",
       "<script type=\"text/javascript\">\n",
       "\n",
       "var ldavis_el1001652858827848875570525_data = {\"mdsDat\": {\"x\": [0.310883896721632, -0.310883896721632], \"y\": [0.0, 0.0], \"topics\": [1, 2], \"cluster\": [1, 1], \"Freq\": [52.56298694015741, 47.4370130598426]}, \"tinfo\": {\"Term\": [\"work\", \"receive\", \"return\", \"like\", \"order\", \"money\", \"get\", \"good\", \"break\", \"waste\", \"look\", \"item\", \"send\", \"box\", \"light\", \"week\", \"disappointed\", \"charge\", \"go\", \"fit\", \"2\", \"fall\", \"stick\", \"3\", \"cheap\", \"Amazon\", \"start\", \"take\", \"thing\", \"use\", \"receive\", \"return\", \"order\", \"money\", \"get\", \"break\", \"waste\", \"look\", \"item\", \"send\", \"box\", \"week\", \"go\", \"2\", \"3\", \"cheap\", \"Amazon\", \"small\", \"want\", \"say\", \"bad\", \"arrive\", \"review\", \"open\", \"seller\", \"think\", \"refund\", \"plastic\", \"case\", \"new\", \"product\", \"time\", \"buy\", \"way\", \"month\", \"come\", \"day\", \"work\", \"good\", \"light\", \"disappointed\", \"charge\", \"fit\", \"fall\", \"stick\", \"take\", \"start\", \"thing\", \"long\", \"great\", \"quality\", \"stop\", \"right\", \"color\", \"find\", \"turn\", \"phone\", \"wear\", \"smell\", \"sure\", \"hold\", \"away\", \"apart\", \"battery\", \"feel\", \"horrible\", \"poor\", \"like\", \"use\", \"issue\", \"try\", \"picture\", \"buy\", \"product\", \"day\", \"come\"], \"Freq\": [231.0, 123.0, 119.0, 149.0, 116.0, 106.0, 88.0, 72.0, 83.0, 79.0, 77.0, 71.0, 68.0, 64.0, 55.0, 61.0, 51.0, 51.0, 59.0, 50.0, 58.0, 49.0, 48.0, 55.0, 53.0, 52.0, 44.0, 44.0, 43.0, 87.0, 123.53253397893967, 119.54793182266982, 116.55948364589092, 106.59798513606327, 88.66728919454292, 83.6865399396291, 79.70193778335924, 77.70964358607131, 71.73274035166652, 68.74429217488763, 64.75969689946476, 61.771241841838886, 59.77894076370396, 58.782793665059984, 55.7943420478576, 53.802044410146166, 52.8058938710787, 47.825144616164884, 46.82899751752091, 42.84439880167455, 42.84439880167455, 41.848248262607086, 39.855947184472164, 38.85980008582819, 38.85980008582819, 37.863649546760726, 37.863649546760726, 37.863649546760726, 37.863649546760726, 35.871348468625804, 137.47862088334318, 94.64418554810071, 113.57102858826504, 44.83669643938598, 48.82129515523234, 49.817445694299806, 46.82899751752091, 231.86024773562406, 72.64975252654926, 55.73363046334595, 51.75336699640012, 51.75336699640012, 50.75829880098016, 49.76323371047153, 48.76816861996291, 44.787905153017064, 44.787905153017064, 43.79284006250844, 41.80270988149119, 41.80270988149119, 40.80764168607123, 40.80764168607123, 38.81751150505398, 35.83231312861677, 33.84218294759952, 33.84218294759952, 33.84218294759952, 33.84218294759952, 33.84218294759952, 32.84711785709089, 31.85205276658227, 29.86192258556502, 29.86192258556502, 29.86192258556502, 28.866857495056394, 28.866857495056394, 27.87178929963643, 139.31914774465187, 75.6349446931638, 33.84218294759952, 68.66948595469209, 39.812576595562604, 65.68428757825488, 64.68922559265759, 38.81751150505398, 37.822446414545354], \"Total\": [231.0, 123.0, 119.0, 149.0, 116.0, 106.0, 88.0, 72.0, 83.0, 79.0, 77.0, 71.0, 68.0, 64.0, 55.0, 61.0, 51.0, 51.0, 59.0, 50.0, 58.0, 49.0, 48.0, 55.0, 53.0, 52.0, 44.0, 44.0, 43.0, 87.0, 123.54248463609096, 119.55788247982112, 116.56943430304221, 106.60793579321457, 88.67723985169421, 83.6964905967804, 79.71188844051053, 77.7195942432226, 71.74269100881781, 68.75424283203893, 64.76964755661605, 61.78119249899018, 59.78889142085525, 58.79274432221128, 55.80429270500889, 53.81199506729746, 52.815844528229995, 47.83509527331618, 46.838948174672204, 42.854349458825844, 42.854349458825844, 41.85819891975838, 39.86589784162346, 38.869750742979484, 38.869750742979484, 37.87360020391202, 37.87360020391202, 37.87360020391202, 37.87360020391202, 35.8812991257771, 202.16784647600076, 124.50610813366572, 179.25531616651992, 53.80223892839669, 78.68321774079736, 87.63989210884516, 85.64650902257489, 231.87020923238006, 72.65971402330528, 55.74359196010197, 51.76332849315614, 51.76332849315614, 50.76826029773618, 49.77319520722755, 48.77813011671893, 44.797866649773084, 44.797866649773084, 43.80280155926446, 41.81267137824721, 41.81267137824721, 40.81760318282725, 40.81760318282725, 38.82747300181, 35.84227462537279, 33.85214444435554, 33.85214444435554, 33.85214444435554, 33.85214444435554, 33.85214444435554, 32.85707935384691, 31.862014263338285, 29.871884082321035, 29.871884082321035, 29.871884082321035, 28.87681899181241, 28.87681899181241, 27.881750796392446, 149.29060628048808, 87.5987025869232, 34.84829415775496, 93.58319053505802, 50.78018481036041, 179.25531616651992, 202.16784647600076, 85.64650902257489, 87.63989210884516], \"Category\": [\"Default\", \"Default\", \"Default\", \"Default\", \"Default\", \"Default\", \"Default\", \"Default\", \"Default\", \"Default\", \"Default\", \"Default\", \"Default\", \"Default\", \"Default\", \"Default\", \"Default\", \"Default\", \"Default\", \"Default\", \"Default\", \"Default\", \"Default\", \"Default\", \"Default\", \"Default\", \"Default\", \"Default\", \"Default\", \"Default\", \"Topic1\", \"Topic1\", \"Topic1\", \"Topic1\", \"Topic1\", \"Topic1\", \"Topic1\", \"Topic1\", \"Topic1\", \"Topic1\", \"Topic1\", \"Topic1\", \"Topic1\", \"Topic1\", \"Topic1\", \"Topic1\", \"Topic1\", \"Topic1\", \"Topic1\", \"Topic1\", \"Topic1\", \"Topic1\", \"Topic1\", \"Topic1\", \"Topic1\", \"Topic1\", \"Topic1\", \"Topic1\", \"Topic1\", \"Topic1\", \"Topic1\", \"Topic1\", \"Topic1\", \"Topic1\", \"Topic1\", \"Topic1\", \"Topic1\", \"Topic2\", \"Topic2\", \"Topic2\", \"Topic2\", \"Topic2\", \"Topic2\", \"Topic2\", \"Topic2\", \"Topic2\", \"Topic2\", \"Topic2\", \"Topic2\", \"Topic2\", \"Topic2\", \"Topic2\", \"Topic2\", \"Topic2\", \"Topic2\", \"Topic2\", \"Topic2\", \"Topic2\", \"Topic2\", \"Topic2\", \"Topic2\", \"Topic2\", \"Topic2\", \"Topic2\", \"Topic2\", \"Topic2\", \"Topic2\", \"Topic2\", \"Topic2\", \"Topic2\", \"Topic2\", \"Topic2\", \"Topic2\", \"Topic2\", \"Topic2\", \"Topic2\"], \"logprob\": [30.0, 29.0, 28.0, 27.0, 26.0, 25.0, 24.0, 23.0, 22.0, 21.0, 20.0, 19.0, 18.0, 17.0, 16.0, 15.0, 14.0, 13.0, 12.0, 11.0, 10.0, 9.0, 8.0, 7.0, 6.0, 5.0, 4.0, 3.0, 2.0, 1.0, -4.0911, -4.1239, -4.1492, -4.2386, -4.4228, -4.4806, -4.5294, -4.5547, -4.6347, -4.6773, -4.737, -4.7842, -4.817, -4.8338, -4.886, -4.9223, -4.941, -5.0401, -5.0611, -5.1501, -5.1501, -5.1736, -5.2224, -5.2477, -5.2477, -5.2737, -5.2737, -5.2737, -5.2737, -5.3277, -3.9842, -4.3575, -4.1752, -5.1046, -5.0195, -4.9993, -5.0611, -3.3589, -4.5194, -4.7845, -4.8585, -4.8585, -4.878, -4.8978, -4.918, -5.0031, -5.0031, -5.0256, -5.0721, -5.0721, -5.0962, -5.0962, -5.1462, -5.2262, -5.2833, -5.2833, -5.2833, -5.2833, -5.2833, -5.3132, -5.3439, -5.4085, -5.4085, -5.4085, -5.4423, -5.4423, -5.4774, -3.8683, -4.4791, -5.2833, -4.5757, -5.1209, -4.6202, -4.6354, -5.1462, -5.1721], \"loglift\": [30.0, 29.0, 28.0, 27.0, 26.0, 25.0, 24.0, 23.0, 22.0, 21.0, 20.0, 19.0, 18.0, 17.0, 16.0, 15.0, 14.0, 13.0, 12.0, 11.0, 10.0, 9.0, 8.0, 7.0, 6.0, 5.0, 4.0, 3.0, 2.0, 1.0, 0.6431, 0.6431, 0.6431, 0.6431, 0.643, 0.643, 0.643, 0.643, 0.643, 0.643, 0.643, 0.643, 0.643, 0.643, 0.643, 0.643, 0.643, 0.6429, 0.6429, 0.6429, 0.6429, 0.6429, 0.6429, 0.6429, 0.6429, 0.6429, 0.6429, 0.6429, 0.6429, 0.6429, 0.2575, 0.3689, 0.1868, 0.4609, 0.1659, 0.0783, 0.0394, 0.7457, 0.7456, 0.7456, 0.7456, 0.7456, 0.7456, 0.7456, 0.7456, 0.7455, 0.7455, 0.7455, 0.7455, 0.7455, 0.7455, 0.7455, 0.7455, 0.7455, 0.7455, 0.7455, 0.7455, 0.7455, 0.7455, 0.7455, 0.7455, 0.7454, 0.7454, 0.7454, 0.7454, 0.7454, 0.7454, 0.6766, 0.5989, 0.7165, 0.4362, 0.5024, -0.2582, -0.3937, -0.0456, -0.0946]}, \"token.table\": {\"Topic\": [1, 1, 1, 2, 1, 2, 1, 2, 1, 1, 1, 2, 1, 2, 1, 2, 1, 2, 1, 2, 2, 2, 2, 2, 2, 1, 1, 2, 2, 2, 2, 1, 2, 1, 2, 1, 2, 2, 1, 1, 1, 2, 1, 1, 1, 2, 1, 2, 1, 2, 1, 2, 2, 1, 1, 1, 1, 2, 1, 1, 1, 1, 2, 2, 2, 2, 2, 2, 2, 1, 1, 2, 1, 2, 2, 1, 2, 1, 1, 1, 2, 2, 1, 2], \"Freq\": [1.0035251914190784, 1.0035070293969257, 1.003486746702906, 1.0042888462383526, 1.0033876536473405, 1.0042888462383526, 1.0033987341544899, 1.0042888462383526, 1.0035564875226872, 1.0036263097897593, 0.6359644022724507, 0.368189917105103, 1.0033374116906617, 1.0045721848600822, 1.0034937365259813, 1.0044005403193792, 0.5705164485814525, 0.4335925009219039, 0.5487672590089064, 0.4553600659861139, 1.0045721848600822, 1.0045567657818262, 1.0042657402196038, 1.0043676865401392, 1.0045646571480835, 1.0036397180251164, 1.0035308997060801, 1.0046832826314946, 1.0044801878372749, 1.0043307286074656, 1.0042657402196038, 0.02869580919723341, 0.9756575127059359, 1.0035865533835435, 1.0045997760618215, 0.0669834509293367, 0.9310699679177803, 1.0044801878372749, 1.0036079158609588, 1.003677626847085, 0.6227503323697123, 0.3812757136957422, 1.0033081543064206, 1.003350915674293, 1.003693641472416, 1.0043676865401392, 0.2166199284441306, 0.7877088307059295, 1.0033374116906617, 1.0042410967830204, 0.6776547427697074, 0.321515023941832, 1.0044685822525095, 1.0037033038898053, 1.0033374116906617, 1.0036979370243824, 1.0033638313856443, 1.004443425874817, 1.0033987341544899, 1.003350915674293, 1.0035744291237625, 1.003447358591879, 1.0043676865401392, 1.0045121200035525, 1.0045485524506612, 1.0044685822525095, 1.0043497672027977, 1.0045121200035525, 1.0045019595486087, 1.0033374116906617, 0.7630147743274658, 0.24095203399814707, 0.2671419926705163, 0.737311899770625, 1.0043676865401392, 0.13698833025629045, 0.8675927582898396, 1.0034384167792838, 1.0036144114149859, 0.8363964194852328, 0.16727928389704655, 1.0043676865401392, 1.003541652275705, 1.0005597561154993], \"Term\": [\"2\", \"3\", \"Amazon\", \"apart\", \"arrive\", \"away\", \"bad\", \"battery\", \"box\", \"break\", \"buy\", \"buy\", \"case\", \"charge\", \"cheap\", \"color\", \"come\", \"come\", \"day\", \"day\", \"disappointed\", \"fall\", \"feel\", \"find\", \"fit\", \"get\", \"go\", \"good\", \"great\", \"hold\", \"horrible\", \"issue\", \"issue\", \"item\", \"light\", \"like\", \"like\", \"long\", \"look\", \"money\", \"month\", \"month\", \"new\", \"open\", \"order\", \"phone\", \"picture\", \"picture\", \"plastic\", \"poor\", \"product\", \"product\", \"quality\", \"receive\", \"refund\", \"return\", \"review\", \"right\", \"say\", \"seller\", \"send\", \"small\", \"smell\", \"start\", \"stick\", \"stop\", \"sure\", \"take\", \"thing\", \"think\", \"time\", \"time\", \"try\", \"try\", \"turn\", \"use\", \"use\", \"want\", \"waste\", \"way\", \"way\", \"wear\", \"week\", \"work\"]}, \"R\": 30, \"lambda.step\": 0.01, \"plot.opts\": {\"xlab\": \"PC1\", \"ylab\": \"PC2\"}, \"topic.order\": [1, 2]};\n",
       "\n",
       "function LDAvis_load_lib(url, callback){\n",
       "  var s = document.createElement('script');\n",
       "  s.src = url;\n",
       "  s.async = true;\n",
       "  s.onreadystatechange = s.onload = callback;\n",
       "  s.onerror = function(){console.warn(\"failed to load library \" + url);};\n",
       "  document.getElementsByTagName(\"head\")[0].appendChild(s);\n",
       "}\n",
       "\n",
       "if(typeof(LDAvis) !== \"undefined\"){\n",
       "   // already loaded: just create the visualization\n",
       "   !function(LDAvis){\n",
       "       new LDAvis(\"#\" + \"ldavis_el1001652858827848875570525\", ldavis_el1001652858827848875570525_data);\n",
       "   }(LDAvis);\n",
       "}else if(typeof define === \"function\" && define.amd){\n",
       "   // require.js is available: use it to load d3/LDAvis\n",
       "   require.config({paths: {d3: \"https://d3js.org/d3.v5\"}});\n",
       "   require([\"d3\"], function(d3){\n",
       "      window.d3 = d3;\n",
       "      LDAvis_load_lib(\"https://cdn.jsdelivr.net/gh/bmabey/pyLDAvis@3.3.1/pyLDAvis/js/ldavis.v3.0.0.js\", function(){\n",
       "        new LDAvis(\"#\" + \"ldavis_el1001652858827848875570525\", ldavis_el1001652858827848875570525_data);\n",
       "      });\n",
       "    });\n",
       "}else{\n",
       "    // require.js not available: dynamically load d3 & LDAvis\n",
       "    LDAvis_load_lib(\"https://d3js.org/d3.v5.js\", function(){\n",
       "         LDAvis_load_lib(\"https://cdn.jsdelivr.net/gh/bmabey/pyLDAvis@3.3.1/pyLDAvis/js/ldavis.v3.0.0.js\", function(){\n",
       "                 new LDAvis(\"#\" + \"ldavis_el1001652858827848875570525\", ldavis_el1001652858827848875570525_data);\n",
       "            })\n",
       "         });\n",
       "}\n",
       "</script>"
      ],
      "text/plain": [
       "<IPython.core.display.HTML object>"
      ]
     },
     "execution_count": 10,
     "metadata": {},
     "output_type": "execute_result"
    }
   ],
   "source": [
    "pyLDAvis.display(prepared_data)"
   ]
  },
  {
   "cell_type": "code",
   "execution_count": 11,
   "metadata": {},
   "outputs": [
    {
     "ename": "NameError",
     "evalue": "name 'stars' is not defined",
     "output_type": "error",
     "traceback": [
      "\u001b[0;31m---------------------------------------------------------------------------\u001b[0m",
      "\u001b[0;31mNameError\u001b[0m                                 Traceback (most recent call last)",
      "\u001b[0;32m/var/folders/xc/b15j6cj52p5dysyc2jp970ph0000gs/T/ipykernel_10016/1309510556.py\u001b[0m in \u001b[0;36m<module>\u001b[0;34m\u001b[0m\n\u001b[1;32m      6\u001b[0m \u001b[0mgood\u001b[0m\u001b[0;34m=\u001b[0m\u001b[0;36m0\u001b[0m\u001b[0;34m\u001b[0m\u001b[0;34m\u001b[0m\u001b[0m\n\u001b[1;32m      7\u001b[0m \u001b[0;32mfor\u001b[0m \u001b[0mx\u001b[0m \u001b[0;32min\u001b[0m \u001b[0mrange\u001b[0m \u001b[0;34m(\u001b[0m\u001b[0mlen\u001b[0m\u001b[0;34m(\u001b[0m\u001b[0mdata\u001b[0m\u001b[0;34m)\u001b[0m\u001b[0;34m)\u001b[0m\u001b[0;34m:\u001b[0m\u001b[0;34m\u001b[0m\u001b[0;34m\u001b[0m\u001b[0m\n\u001b[0;32m----> 8\u001b[0;31m     \u001b[0mgood\u001b[0m\u001b[0;34m+=\u001b[0m\u001b[0mverif\u001b[0m\u001b[0;34m(\u001b[0m\u001b[0mx\u001b[0m\u001b[0;34m)\u001b[0m\u001b[0;34m\u001b[0m\u001b[0;34m\u001b[0m\u001b[0m\n\u001b[0m\u001b[1;32m      9\u001b[0m \u001b[0mprint\u001b[0m\u001b[0;34m(\u001b[0m\u001b[0mgood\u001b[0m\u001b[0;34m*\u001b[0m\u001b[0;36m100\u001b[0m\u001b[0;34m/\u001b[0m\u001b[0mlen\u001b[0m\u001b[0;34m(\u001b[0m\u001b[0mdata\u001b[0m\u001b[0;34m)\u001b[0m\u001b[0;34m)\u001b[0m\u001b[0;34m\u001b[0m\u001b[0;34m\u001b[0m\u001b[0m\n",
      "\u001b[0;32m/var/folders/xc/b15j6cj52p5dysyc2jp970ph0000gs/T/ipykernel_10016/1309510556.py\u001b[0m in \u001b[0;36mverif\u001b[0;34m(i)\u001b[0m\n\u001b[1;32m      2\u001b[0m     \u001b[0mmapping\u001b[0m\u001b[0;34m=\u001b[0m\u001b[0;34m{\u001b[0m\u001b[0;36m0\u001b[0m\u001b[0;34m:\u001b[0m\u001b[0;36m1\u001b[0m\u001b[0;34m,\u001b[0m\u001b[0;36m1\u001b[0m\u001b[0;34m:\u001b[0m\u001b[0;36m5\u001b[0m\u001b[0;34m}\u001b[0m\u001b[0;34m\u001b[0m\u001b[0;34m\u001b[0m\u001b[0m\n\u001b[1;32m      3\u001b[0m     \u001b[0mpred\u001b[0m\u001b[0;34m=\u001b[0m\u001b[0mmapping\u001b[0m\u001b[0;34m[\u001b[0m\u001b[0mnp\u001b[0m\u001b[0;34m.\u001b[0m\u001b[0margmax\u001b[0m\u001b[0;34m(\u001b[0m\u001b[0mmdl\u001b[0m\u001b[0;34m.\u001b[0m\u001b[0minfer\u001b[0m\u001b[0;34m(\u001b[0m\u001b[0mmdl\u001b[0m\u001b[0;34m.\u001b[0m\u001b[0mmake_doc\u001b[0m\u001b[0;34m(\u001b[0m\u001b[0mdata\u001b[0m\u001b[0;34m[\u001b[0m\u001b[0mi\u001b[0m\u001b[0;34m]\u001b[0m\u001b[0;34m)\u001b[0m\u001b[0;34m)\u001b[0m\u001b[0;34m[\u001b[0m\u001b[0;36m0\u001b[0m\u001b[0;34m]\u001b[0m\u001b[0;34m)\u001b[0m\u001b[0;34m]\u001b[0m\u001b[0;34m\u001b[0m\u001b[0;34m\u001b[0m\u001b[0m\n\u001b[0;32m----> 4\u001b[0;31m     \u001b[0;32mreturn\u001b[0m \u001b[0mpred\u001b[0m\u001b[0;34m==\u001b[0m\u001b[0mstars\u001b[0m\u001b[0;34m[\u001b[0m\u001b[0mi\u001b[0m\u001b[0;34m]\u001b[0m\u001b[0;34m\u001b[0m\u001b[0;34m\u001b[0m\u001b[0m\n\u001b[0m\u001b[1;32m      5\u001b[0m \u001b[0;34m\u001b[0m\u001b[0m\n\u001b[1;32m      6\u001b[0m \u001b[0mgood\u001b[0m\u001b[0;34m=\u001b[0m\u001b[0;36m0\u001b[0m\u001b[0;34m\u001b[0m\u001b[0;34m\u001b[0m\u001b[0m\n",
      "\u001b[0;31mNameError\u001b[0m: name 'stars' is not defined"
     ]
    }
   ],
   "source": [
    "def verif(i):\n",
    "    mapping={0:1,1:5}\n",
    "    pred=mapping[np.argmax(mdl.infer(mdl.make_doc(data[i]))[0])]\n",
    "    return pred==stars[i]\n",
    "\n",
    "good=0\n",
    "for x in range (len(data)):\n",
    "    good+=verif(x)\n",
    "print(good*100/len(data))\n"
   ]
  }
 ],
 "metadata": {
  "interpreter": {
   "hash": "fbe3056ddfc4b36596b2e3474972e3f1a3754ef1dc18c2bda31aeffbb1960dd1"
  },
  "kernelspec": {
   "display_name": "Python 3.9.5 64-bit ('venv': venv)",
   "name": "python3"
  },
  "language_info": {
   "codemirror_mode": {
    "name": "ipython",
    "version": 3
   },
   "file_extension": ".py",
   "mimetype": "text/x-python",
   "name": "python",
   "nbconvert_exporter": "python",
   "pygments_lexer": "ipython3",
   "version": "3.9.5"
  },
  "orig_nbformat": 4
 },
 "nbformat": 4,
 "nbformat_minor": 2
}
