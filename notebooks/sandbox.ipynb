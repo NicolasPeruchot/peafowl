{
 "cells": [
  {
   "cell_type": "code",
   "execution_count": 1,
   "metadata": {},
   "outputs": [
    {
     "name": "stdout",
     "output_type": "stream",
     "text": [
      "/Users/nicolas.peruchot/workdir/peafowl\n"
     ]
    }
   ],
   "source": [
    "cd .."
   ]
  },
  {
   "cell_type": "code",
   "execution_count": 2,
   "metadata": {},
   "outputs": [],
   "source": [
    "from datasets import load_dataset\n",
    "import tomotopy as tp\n",
    "import pyLDAvis\n",
    "import pandas as pd\n",
    "import numpy as np\n",
    "\n",
    "from peafowl.viz.utils import prepare_viz_LDA\n",
    "from peafowl.preprocessing.utils import lemmatizer_dataset"
   ]
  },
  {
   "cell_type": "code",
   "execution_count": 3,
   "metadata": {},
   "outputs": [
    {
     "name": "stderr",
     "output_type": "stream",
     "text": [
      "Reusing dataset amazon_reviews_multi (/Users/nicolas.peruchot/.cache/huggingface/datasets/amazon_reviews_multi/en/1.0.0/724e94f4b0c6c405ce7e476a6c5ef4f87db30799ad49f765094cf9770e0f7609)\n",
      "100%|██████████| 3/3 [00:00<00:00, 218.53it/s]\n"
     ]
    }
   ],
   "source": [
    "mdl = tp.LDAModel(k=2)\n",
    "data = load_dataset('amazon_reviews_multi','en')['train']['review_body'][:1000]\n",
    "data=pd.Series(data)"
   ]
  },
  {
   "cell_type": "code",
   "execution_count": 4,
   "metadata": {},
   "outputs": [],
   "source": [
    "data=lemmatizer_dataset(data)"
   ]
  },
  {
   "cell_type": "code",
   "execution_count": 5,
   "metadata": {},
   "outputs": [],
   "source": [
    "for x in data:\n",
    "    mdl.add_doc(x)"
   ]
  },
  {
   "cell_type": "code",
   "execution_count": 6,
   "metadata": {},
   "outputs": [],
   "source": [
    "negative=['break','return','waste']\n",
    "positive=['great','love','good']"
   ]
  },
  {
   "cell_type": "code",
   "execution_count": 7,
   "metadata": {},
   "outputs": [],
   "source": [
    "for word in negative:\n",
    "\n",
    "    mdl.set_word_prior(word, [1.0 if k == 0 else 0 for k in range(n)])\n",
    "\n",
    "for word in positive:\n",
    "\n",
    "    mdl.set_word_prior(word, [1.0 if k == 1 else 0 for k in range(n)])"
   ]
  },
  {
   "cell_type": "code",
   "execution_count": 8,
   "metadata": {},
   "outputs": [],
   "source": [
    "for i in range(0, 100, 10):\n",
    "    mdl.train(10)"
   ]
  },
  {
   "cell_type": "code",
   "execution_count": 9,
   "metadata": {},
   "outputs": [],
   "source": [
    "prepared_data = prepare_viz_LDA(model=mdl)"
   ]
  },
  {
   "cell_type": "code",
   "execution_count": 10,
   "metadata": {},
   "outputs": [],
   "source": [
    "def verif(i):\n",
    "    mapping={0:1,1:5}\n",
    "    pred=mapping[np.argmax(mdl.infer(mdl.make_doc(data[i]))[0])]\n",
    "    return pred==stars[i]"
   ]
  },
  {
   "cell_type": "code",
   "execution_count": 11,
   "metadata": {},
   "outputs": [
    {
     "name": "stdout",
     "output_type": "stream",
     "text": [
      "72.93646823411706\n"
     ]
    }
   ],
   "source": [
    "good=0\n",
    "for x in range (len(data)):\n",
    "    good+=verif(x)\n",
    "print(good*100/len(data))\n"
   ]
  },
  {
   "cell_type": "code",
   "execution_count": 12,
   "metadata": {},
   "outputs": [
    {
     "data": {
      "text/html": [
       "\n",
       "<link rel=\"stylesheet\" type=\"text/css\" href=\"https://cdn.jsdelivr.net/gh/bmabey/pyLDAvis@3.3.1/pyLDAvis/js/ldavis.v1.0.0.css\">\n",
       "\n",
       "\n",
       "<div id=\"ldavis_el7513850737739528112355015\"></div>\n",
       "<script type=\"text/javascript\">\n",
       "\n",
       "var ldavis_el7513850737739528112355015_data = {\"mdsDat\": {\"x\": [0.3054367642582749, -0.3054367642582749], \"y\": [0.0, 0.0], \"topics\": [1, 2], \"cluster\": [1, 1], \"Freq\": [51.318204029332485, 48.681795970667515]}, \"tinfo\": {\"Term\": [\"great\", \"love\", \"good\", \"easy\", \"order\", \"receive\", \"quality\", \"purchase\", \"fit\", \"try\", \"return\", \"look\", \"day\", \"money\", \"light\", \"month\", \"recommend\", \"item\", \"nice\", \"perfect\", \"small\", \"break\", \"color\", \"go\", \"price\", \"use\", \"little\", \"box\", \"waste\", \"charge\", \"order\", \"receive\", \"try\", \"return\", \"day\", \"money\", \"month\", \"item\", \"break\", \"go\", \"box\", \"waste\", \"way\", \"week\", \"2\", \"send\", \"thing\", \"find\", \"cheap\", \"picture\", \"3\", \"book\", \"new\", \"Amazon\", \"start\", \"right\", \"fall\", \"think\", \"say\", \"water\", \"time\", \"product\", \"come\", \"work\", \"get\", \"like\", \"buy\", \"great\", \"love\", \"good\", \"easy\", \"quality\", \"purchase\", \"fit\", \"light\", \"recommend\", \"nice\", \"perfect\", \"small\", \"color\", \"price\", \"little\", \"charge\", \"size\", \"year\", \"feel\", \"phone\", \"old\", \"wear\", \"far\", \"set\", \"clean\", \"gift\", \"happy\", \"worth\", \"battery\", \"definitely\", \"look\", \"case\", \"use\", \"buy\", \"work\", \"like\", \"product\"], \"Freq\": [297.0, 273.0, 254.0, 153.0, 157.0, 154.0, 137.0, 137.0, 135.0, 125.0, 124.0, 184.0, 122.0, 121.0, 112.0, 104.0, 96.0, 98.0, 89.0, 89.0, 89.0, 96.0, 88.0, 94.0, 85.0, 204.0, 79.0, 84.0, 81.0, 75.0, 157.48164958341727, 154.49168056126953, 125.58865956619522, 124.5920032254793, 122.5986905440475, 121.6020342033316, 104.65886996831775, 98.67893192402231, 96.68562568543396, 94.69231300400216, 84.7257495968431, 81.73578057469538, 80.73912423397948, 80.73912423397948, 79.74246789326358, 76.75249887111586, 73.76252984896814, 71.76921716753634, 69.77590448610452, 68.77924814538862, 68.77924814538862, 68.77924814538862, 66.78593546395682, 64.792622782525, 63.7959664418091, 63.7959664418091, 61.80265376037729, 60.80599741966138, 58.81268473822957, 57.81602839751367, 150.50505519840593, 243.19406911361125, 119.60872152189978, 177.41476351204844, 88.71237495970672, 117.61540884046798, 107.64883899046546, 297.91547838518505, 273.00699839153907, 254.07651937000537, 153.44623330353357, 137.50480366285996, 137.50480366285996, 135.51212037388788, 112.59632366921403, 96.65489402854043, 89.68052085268965, 89.68052085268965, 89.68052085268965, 88.68417920820362, 85.695160386596, 79.71712274338078, 75.73176838913763, 74.73542674465159, 73.73908510016555, 71.74640792304398, 69.75373074592241, 67.76104745695034, 61.783009813735106, 55.80497217051988, 55.80497217051988, 55.80497217051988, 52.81595334891227, 51.81961170442623, 49.82693452730465, 49.82693452730465, 48.83059593874387, 169.38766294420716, 70.75006627855794, 173.3730295221513, 207.2485720924706, 217.21196408992898, 164.40596694547799, 91.67319802981123], \"Total\": [297.0, 273.0, 254.0, 153.0, 157.0, 154.0, 137.0, 137.0, 135.0, 125.0, 124.0, 184.0, 122.0, 121.0, 112.0, 104.0, 96.0, 98.0, 89.0, 89.0, 89.0, 96.0, 88.0, 94.0, 85.0, 204.0, 79.0, 84.0, 81.0, 75.0, 157.49161297780813, 154.5016439556604, 125.59862296058608, 124.60196661987017, 122.60865393843837, 121.61199759772246, 104.66883336270861, 98.68889531841317, 96.69558907982483, 94.70227639839302, 84.73571299123397, 81.74574396908625, 80.74908762837035, 80.74908762837035, 79.75243128765445, 76.76246226550673, 73.77249324335901, 71.7791805619272, 69.78586788049539, 68.78921153977949, 68.78921153977949, 68.78921153977949, 66.79589885834768, 64.80258617691587, 63.805929836199965, 63.805929836199965, 61.812617154768155, 60.81596081405225, 58.82264813262044, 57.825991791904535, 185.38689867359776, 334.8672671434225, 151.501546175484, 394.62672760197745, 141.528328308619, 282.02137578594596, 314.89741108293606, 297.92544494730237, 273.0169649536564, 254.0864859321227, 153.45619986565092, 137.5147702249773, 137.5147702249773, 135.52208693600522, 112.60629023133136, 96.66486059065775, 89.69048741480698, 89.69048741480698, 89.69048741480698, 88.69414577032094, 85.70512694871333, 79.72708930549811, 75.74173495125495, 74.74539330676892, 73.74905166228288, 71.7563744851613, 69.76369730803974, 67.77101401906766, 61.79297637585244, 55.814938732637216, 55.814938732637216, 55.814938732637216, 52.8259199110296, 51.829578266543564, 49.836901089421985, 49.836901089421985, 48.8405625008612, 184.3474735230695, 73.75000157418485, 204.27933994175729, 314.89741108293606, 394.62672760197745, 282.02137578594596, 334.8672671434225], \"Category\": [\"Default\", \"Default\", \"Default\", \"Default\", \"Default\", \"Default\", \"Default\", \"Default\", \"Default\", \"Default\", \"Default\", \"Default\", \"Default\", \"Default\", \"Default\", \"Default\", \"Default\", \"Default\", \"Default\", \"Default\", \"Default\", \"Default\", \"Default\", \"Default\", \"Default\", \"Default\", \"Default\", \"Default\", \"Default\", \"Default\", \"Topic1\", \"Topic1\", \"Topic1\", \"Topic1\", \"Topic1\", \"Topic1\", \"Topic1\", \"Topic1\", \"Topic1\", \"Topic1\", \"Topic1\", \"Topic1\", \"Topic1\", \"Topic1\", \"Topic1\", \"Topic1\", \"Topic1\", \"Topic1\", \"Topic1\", \"Topic1\", \"Topic1\", \"Topic1\", \"Topic1\", \"Topic1\", \"Topic1\", \"Topic1\", \"Topic1\", \"Topic1\", \"Topic1\", \"Topic1\", \"Topic1\", \"Topic1\", \"Topic1\", \"Topic1\", \"Topic1\", \"Topic1\", \"Topic1\", \"Topic2\", \"Topic2\", \"Topic2\", \"Topic2\", \"Topic2\", \"Topic2\", \"Topic2\", \"Topic2\", \"Topic2\", \"Topic2\", \"Topic2\", \"Topic2\", \"Topic2\", \"Topic2\", \"Topic2\", \"Topic2\", \"Topic2\", \"Topic2\", \"Topic2\", \"Topic2\", \"Topic2\", \"Topic2\", \"Topic2\", \"Topic2\", \"Topic2\", \"Topic2\", \"Topic2\", \"Topic2\", \"Topic2\", \"Topic2\", \"Topic2\", \"Topic2\", \"Topic2\", \"Topic2\", \"Topic2\", \"Topic2\", \"Topic2\"], \"logprob\": [30.0, 29.0, 28.0, 27.0, 26.0, 25.0, 24.0, 23.0, 22.0, 21.0, 20.0, 19.0, 18.0, 17.0, 16.0, 15.0, 14.0, 13.0, 12.0, 11.0, 10.0, 9.0, 8.0, 7.0, 6.0, 5.0, 4.0, 3.0, 2.0, 1.0, -4.4757, -4.4949, -4.702, -4.71, -4.7261, -4.7343, -4.8843, -4.9432, -4.9636, -4.9844, -5.0956, -5.1315, -5.1438, -5.1438, -5.1562, -5.1944, -5.2342, -5.2616, -5.2897, -5.3041, -5.3041, -5.3041, -5.3335, -5.3638, -5.3793, -5.3793, -5.4111, -5.4273, -5.4607, -5.4778, -4.521, -4.0412, -4.7508, -4.3565, -5.0496, -4.7676, -4.8561, -3.7855, -3.8728, -3.9446, -4.4489, -4.5586, -4.5586, -4.5732, -4.7585, -4.9111, -4.986, -4.986, -4.986, -4.9972, -5.0315, -5.1038, -5.1551, -5.1683, -5.1817, -5.2091, -5.2373, -5.2663, -5.3587, -5.4604, -5.4604, -5.4604, -5.5155, -5.5345, -5.5737, -5.5737, -5.5939, -4.3501, -5.2231, -4.3268, -4.1484, -4.1014, -4.3799, -4.9641], \"loglift\": [30.0, 29.0, 28.0, 27.0, 26.0, 25.0, 24.0, 23.0, 22.0, 21.0, 20.0, 19.0, 18.0, 17.0, 16.0, 15.0, 14.0, 13.0, 12.0, 11.0, 10.0, 9.0, 8.0, 7.0, 6.0, 5.0, 4.0, 3.0, 2.0, 1.0, 0.6671, 0.6671, 0.667, 0.667, 0.667, 0.667, 0.667, 0.667, 0.667, 0.667, 0.667, 0.667, 0.667, 0.667, 0.667, 0.667, 0.667, 0.667, 0.667, 0.667, 0.667, 0.667, 0.667, 0.667, 0.667, 0.667, 0.667, 0.667, 0.667, 0.667, 0.4587, 0.3473, 0.4308, -0.1323, 0.2, -0.2074, -0.4062, 0.7198, 0.7198, 0.7198, 0.7198, 0.7198, 0.7198, 0.7198, 0.7198, 0.7198, 0.7198, 0.7198, 0.7198, 0.7198, 0.7197, 0.7197, 0.7197, 0.7197, 0.7197, 0.7197, 0.7197, 0.7197, 0.7197, 0.7197, 0.7197, 0.7197, 0.7197, 0.7197, 0.7197, 0.7197, 0.7197, 0.6352, 0.6783, 0.5558, 0.3015, 0.1228, 0.1802, -0.5756]}, \"token.table\": {\"Topic\": [1, 1, 1, 2, 1, 1, 1, 1, 2, 1, 2, 2, 1, 2, 2, 1, 2, 1, 2, 2, 1, 2, 2, 1, 2, 1, 2, 2, 1, 2, 2, 2, 1, 2, 1, 2, 2, 1, 2, 2, 1, 1, 1, 2, 2, 1, 2, 2, 1, 2, 1, 2, 2, 2, 1, 2, 1, 1, 1, 1, 2, 2, 2, 1, 1, 1, 1, 2, 1, 1, 2, 1, 1, 1, 2, 1, 1, 2, 2, 2], \"Freq\": [1.0031042152364311, 1.0030642662635931, 1.0030463880337304, 1.003272653536089, 1.0030642662635931, 1.003118956570217, 1.003148136570365, 0.3429688406411049, 0.6573569445621178, 0.040677965233428655, 0.9627118438578115, 1.0034098116304209, 1.0030684166581019, 1.0033156225119095, 1.0034484150788383, 0.7920711242181263, 0.21121896645816704, 1.0031918306660321, 1.0032644484619928, 0.9970271656273887, 1.0030314659669348, 1.0033156225119095, 1.0033951759211173, 1.0030763716769138, 1.0035264588584771, 0.6288493693356226, 0.37448333230098874, 1.0032953536684943, 1.0031437850591312, 0.9996596201021655, 1.000250247348664, 1.0032881173097725, 1.0031523777886364, 1.0034963390398515, 0.4184080007097119, 0.5815162043762098, 1.0034230610558996, 0.08136808014416795, 0.916747036290959, 0.9999378611740876, 1.003190494440861, 1.0031639469615927, 1.0030555939083199, 1.0034508964564053, 1.0033788188689032, 0.996878481536173, 1.0034508964564053, 1.0033871870482562, 1.0030642662635931, 1.0034405532292499, 0.7256606537656125, 0.2747357207672278, 1.0035285647805603, 1.0035285647805603, 0.9967531481036903, 1.0034670241832908, 1.0031944389878222, 1.0030415694011237, 1.0030150269158185, 1.0030944517343865, 1.0033156225119095, 1.0034063195331133, 1.0034508964564053, 1.0030415694011237, 1.003083896810841, 1.0030261658861308, 0.8145127896327712, 0.18879435521289398, 1.003195712102193, 0.15175298690919262, 0.8468795721061394, 1.003110327444202, 1.003009169453101, 1.0031073090606846, 1.0033502775928504, 1.0031073090606846, 0.44852511910577714, 0.5498867279432409, 1.003272653536089, 1.003402733080098], \"Term\": [\"2\", \"3\", \"Amazon\", \"battery\", \"book\", \"box\", \"break\", \"buy\", \"buy\", \"case\", \"case\", \"charge\", \"cheap\", \"clean\", \"color\", \"come\", \"come\", \"day\", \"definitely\", \"easy\", \"fall\", \"far\", \"feel\", \"find\", \"fit\", \"get\", \"get\", \"gift\", \"go\", \"good\", \"great\", \"happy\", \"item\", \"light\", \"like\", \"like\", \"little\", \"look\", \"look\", \"love\", \"money\", \"month\", \"new\", \"nice\", \"old\", \"order\", \"perfect\", \"phone\", \"picture\", \"price\", \"product\", \"product\", \"purchase\", \"quality\", \"receive\", \"recommend\", \"return\", \"right\", \"say\", \"send\", \"set\", \"size\", \"small\", \"start\", \"thing\", \"think\", \"time\", \"time\", \"try\", \"use\", \"use\", \"waste\", \"water\", \"way\", \"wear\", \"week\", \"work\", \"work\", \"worth\", \"year\"]}, \"R\": 30, \"lambda.step\": 0.01, \"plot.opts\": {\"xlab\": \"PC1\", \"ylab\": \"PC2\"}, \"topic.order\": [1, 2]};\n",
       "\n",
       "function LDAvis_load_lib(url, callback){\n",
       "  var s = document.createElement('script');\n",
       "  s.src = url;\n",
       "  s.async = true;\n",
       "  s.onreadystatechange = s.onload = callback;\n",
       "  s.onerror = function(){console.warn(\"failed to load library \" + url);};\n",
       "  document.getElementsByTagName(\"head\")[0].appendChild(s);\n",
       "}\n",
       "\n",
       "if(typeof(LDAvis) !== \"undefined\"){\n",
       "   // already loaded: just create the visualization\n",
       "   !function(LDAvis){\n",
       "       new LDAvis(\"#\" + \"ldavis_el7513850737739528112355015\", ldavis_el7513850737739528112355015_data);\n",
       "   }(LDAvis);\n",
       "}else if(typeof define === \"function\" && define.amd){\n",
       "   // require.js is available: use it to load d3/LDAvis\n",
       "   require.config({paths: {d3: \"https://d3js.org/d3.v5\"}});\n",
       "   require([\"d3\"], function(d3){\n",
       "      window.d3 = d3;\n",
       "      LDAvis_load_lib(\"https://cdn.jsdelivr.net/gh/bmabey/pyLDAvis@3.3.1/pyLDAvis/js/ldavis.v3.0.0.js\", function(){\n",
       "        new LDAvis(\"#\" + \"ldavis_el7513850737739528112355015\", ldavis_el7513850737739528112355015_data);\n",
       "      });\n",
       "    });\n",
       "}else{\n",
       "    // require.js not available: dynamically load d3 & LDAvis\n",
       "    LDAvis_load_lib(\"https://d3js.org/d3.v5.js\", function(){\n",
       "         LDAvis_load_lib(\"https://cdn.jsdelivr.net/gh/bmabey/pyLDAvis@3.3.1/pyLDAvis/js/ldavis.v3.0.0.js\", function(){\n",
       "                 new LDAvis(\"#\" + \"ldavis_el7513850737739528112355015\", ldavis_el7513850737739528112355015_data);\n",
       "            })\n",
       "         });\n",
       "}\n",
       "</script>"
      ],
      "text/plain": [
       "<IPython.core.display.HTML object>"
      ]
     },
     "execution_count": 12,
     "metadata": {},
     "output_type": "execute_result"
    }
   ],
   "source": [
    "pyLDAvis.display(prepared_data)"
   ]
  }
 ],
 "metadata": {
  "interpreter": {
   "hash": "fbe3056ddfc4b36596b2e3474972e3f1a3754ef1dc18c2bda31aeffbb1960dd1"
  },
  "kernelspec": {
   "display_name": "Python 3.9.5 64-bit ('venv': venv)",
   "name": "python3"
  },
  "language_info": {
   "codemirror_mode": {
    "name": "ipython",
    "version": 3
   },
   "file_extension": ".py",
   "mimetype": "text/x-python",
   "name": "python",
   "nbconvert_exporter": "python",
   "pygments_lexer": "ipython3",
   "version": "3.9.5"
  },
  "orig_nbformat": 4
 },
 "nbformat": 4,
 "nbformat_minor": 2
}
