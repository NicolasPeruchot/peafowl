{
 "cells": [
  {
   "cell_type": "code",
   "execution_count": 1,
   "metadata": {},
   "outputs": [
    {
     "name": "stdout",
     "output_type": "stream",
     "text": [
      "/Users/nicolas.peruchot/workdir/peafowl\n"
     ]
    }
   ],
   "source": [
    "cd .."
   ]
  },
  {
   "cell_type": "code",
   "execution_count": 2,
   "metadata": {},
   "outputs": [],
   "source": [
    "from peafowl.ipywidgets_interface.utils import GuidedLDAInterface\n",
    "from datasets import load_dataset\n",
    "import pandas as pd\n",
    "import ipywidgets"
   ]
  },
  {
   "cell_type": "code",
   "execution_count": 3,
   "metadata": {},
   "outputs": [
    {
     "name": "stderr",
     "output_type": "stream",
     "text": [
      "Reusing dataset amazon_reviews_multi (/Users/nicolas.peruchot/.cache/huggingface/datasets/amazon_reviews_multi/en/1.0.0/724e94f4b0c6c405ce7e476a6c5ef4f87db30799ad49f765094cf9770e0f7609)\n",
      "100%|██████████| 3/3 [00:00<00:00, 249.14it/s]\n"
     ]
    }
   ],
   "source": [
    "data_tot = load_dataset('amazon_reviews_multi','en')['train']\n",
    "data=data_tot['review_body']\n",
    "stars=data_tot['stars']\n",
    "\n",
    "data=pd.Series([e for i,e in enumerate(data) if i<1000 or i>198999])\n",
    "stars=pd.Series([e for i,e in enumerate(stars) if i<1000 or i>198999])"
   ]
  },
  {
   "cell_type": "code",
   "execution_count": 4,
   "metadata": {},
   "outputs": [],
   "source": [
    "model=GuidedLDAInterface(k=2)"
   ]
  },
  {
   "cell_type": "code",
   "execution_count": 6,
   "metadata": {},
   "outputs": [
    {
     "data": {
      "text/plain": [
       "749                                                                                                            This is the second unit I tried and both failed to charge. The first never took a charge and I returned it and decided that I must have got a bad unit and tried again. Don't waste your money on any these as they are all pretty much the same thing with a different sticker. All cheap junk.\n",
       "837                                                                                                                                                                                                                                                                  they came in an amazon package, when I opened it, the candles came out and 2 were broken, the bag they came in, was even ripped.. not cool\n",
       "1835                                                                                                                                                                                                                                                              I bought some other string of lights from other seller which got a poor quality, but this one is good!!! Cute pumpkins, and not easy broken!!\n",
       "1408    I had to part ways with my KITCHEN SPATULA after so many years. I was looking for a spatula that didn't split apart since it was harder to clean. So far I have used only the SPOON SPATULA and use it all the time. I like the design where it is 1 solid piece, a bit heavy but durable. Since its black - I do not have to worry about staining. Love it and would recommend it to any home kitchen!\n",
       "1845                                                                                                                                                                                                                                                                                                                                                      It looks awesome hope my grandson will think the same\n",
       "443                                                                                                                                                                                                                                                                                                    I tried to use this on the rug I ordered it for and I can’t. So I just threw the rug away and took the L\n",
       "1141                                                                                                                                                                                                                                                                                                                                                               Haven't had time to put up. But great price.\n",
       "1354                                                                                                                                                                                                                                                                                                                                                   My dog love them! Nice and soft for my little dogs teeth\n",
       "1546                                                                                                                                                                                                                                                                                                                                                    This has been the best violet shampoo I have ever used.\n",
       "58                                                                                                                                                                                                                                                                                                      I like the looks of the clock; however, it is defective. I put in battery, but the clock does NOT work.\n",
       "dtype: object"
      ]
     },
     "execution_count": 6,
     "metadata": {},
     "output_type": "execute_result"
    }
   ],
   "source": [
    "model.explore(data=data)"
   ]
  },
  {
   "cell_type": "code",
   "execution_count": 7,
   "metadata": {},
   "outputs": [
    {
     "data": {
      "application/vnd.jupyter.widget-view+json": {
       "model_id": "6694a4cb61bc434985b7b4bc46f86198",
       "version_major": 2,
       "version_minor": 0
      },
      "text/plain": [
       "Text(value='', description='New topic:', placeholder='Topic name')"
      ]
     },
     "metadata": {},
     "output_type": "display_data"
    },
    {
     "data": {
      "application/vnd.jupyter.widget-view+json": {
       "model_id": "2fd35f1d2b5c4b0fa600a5e25656cf20",
       "version_major": 2,
       "version_minor": 0
      },
      "text/plain": [
       "Button(description='Add topic', style=ButtonStyle(), tooltip='Add topic')"
      ]
     },
     "metadata": {},
     "output_type": "display_data"
    },
    {
     "data": {
      "application/vnd.jupyter.widget-view+json": {
       "model_id": "7fde4c3f1ecb4143819e78d14c0a4851",
       "version_major": 2,
       "version_minor": 0
      },
      "text/plain": [
       "Output()"
      ]
     },
     "metadata": {},
     "output_type": "display_data"
    }
   ],
   "source": [
    "model.add_topics()"
   ]
  },
  {
   "cell_type": "code",
   "execution_count": 8,
   "metadata": {},
   "outputs": [
    {
     "data": {
      "application/vnd.jupyter.widget-view+json": {
       "model_id": "5647c65cb2ba4eddbe15aa5ce42f92a8",
       "version_major": 2,
       "version_minor": 0
      },
      "text/plain": [
       "Dropdown(description='Topic:', options=('Positive', 'Negative'), value='Positive')"
      ]
     },
     "metadata": {},
     "output_type": "display_data"
    },
    {
     "data": {
      "application/vnd.jupyter.widget-view+json": {
       "model_id": "6555a13b52104221a2d65c5bbbecf362",
       "version_major": 2,
       "version_minor": 0
      },
      "text/plain": [
       "Text(value='', description='New seed:', placeholder='Word')"
      ]
     },
     "metadata": {},
     "output_type": "display_data"
    },
    {
     "data": {
      "application/vnd.jupyter.widget-view+json": {
       "model_id": "91d7e4f1ece54aaba0acfa007557c3ff",
       "version_major": 2,
       "version_minor": 0
      },
      "text/plain": [
       "Button(description='Add seed', style=ButtonStyle(), tooltip='Add seed')"
      ]
     },
     "metadata": {},
     "output_type": "display_data"
    },
    {
     "data": {
      "application/vnd.jupyter.widget-view+json": {
       "model_id": "600ef72df40e4d8dad7438d50b8ac8db",
       "version_major": 2,
       "version_minor": 0
      },
      "text/plain": [
       "Output()"
      ]
     },
     "metadata": {},
     "output_type": "display_data"
    }
   ],
   "source": [
    "model.add_seeds()"
   ]
  },
  {
   "cell_type": "code",
   "execution_count": 9,
   "metadata": {},
   "outputs": [
    {
     "data": {
      "text/html": [
       "\n",
       "<link rel=\"stylesheet\" type=\"text/css\" href=\"https://cdn.jsdelivr.net/gh/bmabey/pyLDAvis@3.3.1/pyLDAvis/js/ldavis.v1.0.0.css\">\n",
       "\n",
       "\n",
       "<div id=\"ldavis_el3113553178628963511803881\"></div>\n",
       "<script type=\"text/javascript\">\n",
       "\n",
       "var ldavis_el3113553178628963511803881_data = {\"mdsDat\": {\"x\": [0.30889841364726656, -0.30889841364726656], \"y\": [0.0, 0.0], \"topics\": [1, 2], \"cluster\": [1, 1], \"Freq\": [50.96830825524885, 49.03169174475115]}, \"tinfo\": {\"Term\": [\"work\", \"great\", \"love\", \"good\", \"use\", \"order\", \"receive\", \"easy\", \"quality\", \"fit\", \"try\", \"return\", \"day\", \"money\", \"light\", \"month\", \"item\", \"break\", \"perfect\", \"small\", \"nice\", \"box\", \"color\", \"want\", \"waste\", \"price\", \"week\", \"2\", \"send\", \"long\", \"work\", \"great\", \"love\", \"good\", \"easy\", \"quality\", \"fit\", \"light\", \"month\", \"break\", \"nice\", \"perfect\", \"small\", \"color\", \"price\", \"long\", \"little\", \"charge\", \"size\", \"year\", \"cheap\", \"phone\", \"old\", \"hold\", \"read\", \"far\", \"set\", \"clean\", \"big\", \"hard\", \"use\", \"case\", \"look\", \"buy\", \"recommend\", \"like\", \"product\", \"purchase\", \"order\", \"receive\", \"try\", \"return\", \"day\", \"money\", \"item\", \"box\", \"want\", \"waste\", \"week\", \"2\", \"send\", \"thing\", \"find\", \"take\", \"3\", \"book\", \"start\", \"right\", \"fall\", \"say\", \"water\", \"sure\", \"review\", \"plastic\", \"disappointed\", \"stick\", \"package\", \"away\", \"Amazon\", \"new\", \"wear\", \"product\", \"time\", \"like\", \"get\", \"come\", \"go\", \"buy\"], \"Freq\": [395.0, 297.0, 273.0, 254.0, 204.0, 157.0, 154.0, 153.0, 137.0, 135.0, 125.0, 124.0, 122.0, 121.0, 112.0, 104.0, 98.0, 96.0, 89.0, 89.0, 89.0, 84.0, 88.0, 82.0, 81.0, 85.0, 80.0, 79.0, 76.0, 79.0, 395.5502049828915, 297.9105470730611, 273.0024749942304, 254.07231973323357, 153.44369061380777, 137.50253216376316, 135.50988895759238, 112.59446008493245, 104.62388085991016, 96.65329523454865, 89.67903121227253, 89.67903121227253, 89.67903121227253, 88.68270960918714, 85.69373839959178, 79.71580238074024, 79.71580238074024, 75.73050956805949, 74.73418796497411, 73.73786636188872, 69.75257354920797, 69.75257354920797, 67.7599303430372, 67.7599303430372, 56.80037350808032, 55.804045504655726, 55.804045504655726, 55.804045504655726, 53.81140229848495, 52.815080695399566, 200.2708763625522, 71.74521675537873, 156.43266182340312, 244.1090909017013, 79.71580238074024, 119.56871770686938, 109.60548887533709, 76.72683757148408, 157.486247176971, 154.49618793889033, 125.59232712320167, 124.59564481527399, 122.60226788512098, 121.60558557719331, 98.68181860907076, 84.72822319804146, 82.73485242503727, 81.73817011710959, 80.74148165203309, 79.7447993441054, 76.75474010602471, 73.76468702509284, 71.77131625208865, 68.78125701400798, 68.78125701400798, 68.78125701400798, 63.79783316007192, 63.79783316007192, 61.80445622991891, 58.81440314898704, 57.81771468391054, 55.82434391090635, 52.834290829974485, 52.834290829974485, 51.83760236489798, 51.83760236489798, 51.83760236489798, 50.84091697839589, 63.79783316007192, 63.79783316007192, 59.811085456914725, 225.26084114481569, 133.56579790092078, 162.46967103090705, 98.68181860907076, 93.6983947551347, 63.79783316007192, 70.77462778701215], \"Total\": [395.0, 297.0, 273.0, 254.0, 204.0, 157.0, 154.0, 153.0, 137.0, 135.0, 125.0, 124.0, 122.0, 121.0, 112.0, 104.0, 98.0, 96.0, 89.0, 89.0, 89.0, 84.0, 88.0, 82.0, 81.0, 85.0, 80.0, 79.0, 76.0, 79.0, 395.56017183597487, 297.92051392614445, 273.01244184731377, 254.0822865863169, 153.45365746689112, 137.5124990168465, 135.51985581067572, 112.6044269380158, 104.63384771299351, 96.663262087632, 89.68899806535589, 89.68899806535589, 89.68899806535589, 88.6926764622705, 85.70370525267514, 79.7257692338236, 79.7257692338236, 75.74047642114284, 74.74415481805747, 73.74783321497208, 69.76254040229132, 69.76254040229132, 67.76989719612055, 67.76989719612055, 56.81034036116367, 55.814012357739074, 55.814012357739074, 55.814012357739074, 53.8213691515683, 52.825047548482914, 204.26758479321134, 73.74855422062278, 184.34981799082527, 314.88371868871343, 96.66942083592659, 282.0383887377764, 334.86633002015276, 137.53461149347532, 157.49621040656507, 154.5061511684844, 125.60229035279575, 124.60560804486806, 122.61223111471506, 121.61554880678739, 98.69178183866484, 84.73818642763554, 82.74481565463135, 81.74813334670367, 80.75144488162717, 79.75476257369948, 76.76470333561879, 73.77465025468692, 71.78127948168273, 68.79122024360206, 68.79122024360206, 68.79122024360206, 63.80779638966599, 63.80779638966599, 61.81441945951298, 58.82436637858111, 57.82767791350461, 55.83430714050042, 52.844254059568556, 52.844254059568556, 51.84756559449205, 51.84756559449205, 51.84756559449205, 50.85088020798996, 64.804119391263, 66.79676529757687, 61.81369459126009, 334.86633002015276, 185.38455379306535, 282.0383887377764, 141.53366727276844, 151.49508986630042, 94.69380978606654, 314.88371868871343], \"Category\": [\"Default\", \"Default\", \"Default\", \"Default\", \"Default\", \"Default\", \"Default\", \"Default\", \"Default\", \"Default\", \"Default\", \"Default\", \"Default\", \"Default\", \"Default\", \"Default\", \"Default\", \"Default\", \"Default\", \"Default\", \"Default\", \"Default\", \"Default\", \"Default\", \"Default\", \"Default\", \"Default\", \"Default\", \"Default\", \"Default\", \"Topic1\", \"Topic1\", \"Topic1\", \"Topic1\", \"Topic1\", \"Topic1\", \"Topic1\", \"Topic1\", \"Topic1\", \"Topic1\", \"Topic1\", \"Topic1\", \"Topic1\", \"Topic1\", \"Topic1\", \"Topic1\", \"Topic1\", \"Topic1\", \"Topic1\", \"Topic1\", \"Topic1\", \"Topic1\", \"Topic1\", \"Topic1\", \"Topic1\", \"Topic1\", \"Topic1\", \"Topic1\", \"Topic1\", \"Topic1\", \"Topic1\", \"Topic1\", \"Topic1\", \"Topic1\", \"Topic1\", \"Topic1\", \"Topic1\", \"Topic1\", \"Topic2\", \"Topic2\", \"Topic2\", \"Topic2\", \"Topic2\", \"Topic2\", \"Topic2\", \"Topic2\", \"Topic2\", \"Topic2\", \"Topic2\", \"Topic2\", \"Topic2\", \"Topic2\", \"Topic2\", \"Topic2\", \"Topic2\", \"Topic2\", \"Topic2\", \"Topic2\", \"Topic2\", \"Topic2\", \"Topic2\", \"Topic2\", \"Topic2\", \"Topic2\", \"Topic2\", \"Topic2\", \"Topic2\", \"Topic2\", \"Topic2\", \"Topic2\", \"Topic2\", \"Topic2\", \"Topic2\", \"Topic2\", \"Topic2\", \"Topic2\", \"Topic2\", \"Topic2\"], \"logprob\": [30.0, 29.0, 28.0, 27.0, 26.0, 25.0, 24.0, 23.0, 22.0, 21.0, 20.0, 19.0, 18.0, 17.0, 16.0, 15.0, 14.0, 13.0, 12.0, 11.0, 10.0, 9.0, 8.0, 7.0, 6.0, 5.0, 4.0, 3.0, 2.0, 1.0, -3.5481, -3.8316, -3.9189, -3.9908, -4.4951, -4.6048, -4.6194, -4.8046, -4.878, -4.9573, -5.0322, -5.0322, -5.0322, -5.0433, -5.0776, -5.1499, -5.1499, -5.2012, -5.2145, -5.2279, -5.2834, -5.2834, -5.3124, -5.3124, -5.4889, -5.5066, -5.5066, -5.5066, -5.5429, -5.5616, -4.2287, -5.2553, -4.4758, -4.0308, -5.1499, -4.7445, -4.8315, -5.1882, -4.4303, -4.4495, -4.6566, -4.6646, -4.6807, -4.6889, -4.8978, -5.0502, -5.074, -5.0861, -5.0984, -5.1108, -5.1491, -5.1888, -5.2162, -5.2587, -5.2587, -5.2587, -5.3339, -5.3339, -5.3657, -5.4153, -5.4324, -5.4675, -5.5225, -5.5225, -5.5416, -5.5416, -5.5416, -5.561, -5.3339, -5.3339, -5.3985, -4.0724, -4.5951, -4.3992, -4.8978, -4.9496, -5.3339, -5.2302], \"loglift\": [30.0, 29.0, 28.0, 27.0, 26.0, 25.0, 24.0, 23.0, 22.0, 21.0, 20.0, 19.0, 18.0, 17.0, 16.0, 15.0, 14.0, 13.0, 12.0, 11.0, 10.0, 9.0, 8.0, 7.0, 6.0, 5.0, 4.0, 3.0, 2.0, 1.0, 0.6739, 0.6739, 0.6739, 0.6739, 0.6739, 0.6739, 0.6739, 0.6739, 0.6739, 0.6739, 0.6739, 0.6739, 0.6739, 0.6739, 0.6738, 0.6738, 0.6738, 0.6738, 0.6738, 0.6738, 0.6738, 0.6738, 0.6738, 0.6738, 0.6738, 0.6738, 0.6738, 0.6738, 0.6738, 0.6738, 0.6542, 0.6464, 0.5098, 0.4194, 0.4811, -0.1842, -0.4429, 0.0903, 0.7126, 0.7126, 0.7126, 0.7126, 0.7126, 0.7126, 0.7126, 0.7126, 0.7126, 0.7126, 0.7126, 0.7126, 0.7126, 0.7126, 0.7126, 0.7126, 0.7126, 0.7126, 0.7125, 0.7125, 0.7125, 0.7125, 0.7125, 0.7125, 0.7125, 0.7125, 0.7125, 0.7125, 0.7125, 0.7125, 0.6971, 0.6668, 0.6798, 0.3162, 0.3849, 0.1612, 0.3521, 0.2322, 0.3178, -0.78]}, \"token.table\": {\"Topic\": [2, 2, 1, 2, 2, 1, 2, 2, 1, 1, 2, 1, 2, 1, 1, 1, 1, 1, 2, 2, 2, 1, 2, 1, 2, 1, 1, 2, 1, 2, 1, 1, 1, 1, 2, 1, 1, 2, 1, 1, 1, 2, 1, 2, 1, 1, 2, 1, 1, 2, 2, 1, 1, 2, 1, 1, 2, 1, 2, 1, 1, 2, 1, 2, 2, 2, 2, 2, 2, 1, 1, 1, 2, 2, 2, 2, 2, 1, 2, 2, 1, 2, 2, 2, 2, 1, 2, 2, 1, 1], \"Freq\": [1.0030748938168288, 1.0030349767842266, 0.015431117796113772, 0.9875915389512814, 1.0029324918546172, 1.0033189577160078, 1.0030349767842266, 1.0030896763714436, 1.0034836183374685, 0.7748892226505131, 0.22548006068928866, 0.9762903254294059, 0.027119175706372387, 1.0034264846370138, 1.0034038267003946, 1.0033322750758151, 1.0034650384900745, 0.3828506920665678, 0.6204821561078858, 1.003162562835368, 1.002940049426817, 0.9970436842341865, 1.0030022208751563, 1.0033322750758151, 1.0030470412327086, 1.0035429803732603, 0.30381463879635756, 0.6994802149032419, 0.32737092392877204, 0.6758625526271423, 0.9996761419797403, 1.000266802956292, 1.0033119222724127, 1.0033953541823082, 1.00312303776052, 1.0035129441420803, 0.42547399500133054, 0.5743898932517962, 1.0034396753874162, 1.0034396753874162, 0.8462172715991714, 0.15188515131267177, 0.9999544275446585, 1.0031612009893849, 1.0034993675087895, 0.044912354462601924, 0.9581302285355078, 1.0034675594705327, 1.0033953541823082, 0.9968493819293548, 1.002940049426817, 1.0034675594705327, 1.0034038267003946, 1.0029472634859389, 1.0034571988043144, 0.3284892810614314, 0.6719098930802005, 0.5598590723008869, 0.44352471961498835, 1.003545139435607, 1.003338470384627, 0.9967240710828887, 0.8275626284736, 0.17585705855064, 1.0031651220303819, 1.0029472634859389, 1.0030122276776374, 1.0029857290818662, 1.0030651673771536, 1.0033322750758151, 1.0034229456813755, 1.0034675594705327, 1.0030122276776374, 1.002940049426817, 1.0029675815459236, 1.0030349767842266, 1.0030545688056145, 0.28049801850290484, 0.7228218169113316, 1.003166420342234, 0.9791078707004266, 0.01958215741400853, 1.0030839919498251, 1.0030810080057502, 1.0029799240210395, 0.03235528976588276, 0.9706586929764828, 1.0030780268853046, 1.001111912157343, 1.0034193111042715], \"Term\": [\"2\", \"3\", \"Amazon\", \"Amazon\", \"away\", \"big\", \"book\", \"box\", \"break\", \"buy\", \"buy\", \"case\", \"case\", \"charge\", \"cheap\", \"clean\", \"color\", \"come\", \"come\", \"day\", \"disappointed\", \"easy\", \"fall\", \"far\", \"find\", \"fit\", \"get\", \"get\", \"go\", \"go\", \"good\", \"great\", \"hard\", \"hold\", \"item\", \"light\", \"like\", \"like\", \"little\", \"long\", \"look\", \"look\", \"love\", \"money\", \"month\", \"new\", \"new\", \"nice\", \"old\", \"order\", \"package\", \"perfect\", \"phone\", \"plastic\", \"price\", \"product\", \"product\", \"purchase\", \"purchase\", \"quality\", \"read\", \"receive\", \"recommend\", \"recommend\", \"return\", \"review\", \"right\", \"say\", \"send\", \"set\", \"size\", \"small\", \"start\", \"stick\", \"sure\", \"take\", \"thing\", \"time\", \"time\", \"try\", \"use\", \"use\", \"want\", \"waste\", \"water\", \"wear\", \"wear\", \"week\", \"work\", \"year\"]}, \"R\": 30, \"lambda.step\": 0.01, \"plot.opts\": {\"xlab\": \"PC1\", \"ylab\": \"PC2\"}, \"topic.order\": [1, 2]};\n",
       "\n",
       "function LDAvis_load_lib(url, callback){\n",
       "  var s = document.createElement('script');\n",
       "  s.src = url;\n",
       "  s.async = true;\n",
       "  s.onreadystatechange = s.onload = callback;\n",
       "  s.onerror = function(){console.warn(\"failed to load library \" + url);};\n",
       "  document.getElementsByTagName(\"head\")[0].appendChild(s);\n",
       "}\n",
       "\n",
       "if(typeof(LDAvis) !== \"undefined\"){\n",
       "   // already loaded: just create the visualization\n",
       "   !function(LDAvis){\n",
       "       new LDAvis(\"#\" + \"ldavis_el3113553178628963511803881\", ldavis_el3113553178628963511803881_data);\n",
       "   }(LDAvis);\n",
       "}else if(typeof define === \"function\" && define.amd){\n",
       "   // require.js is available: use it to load d3/LDAvis\n",
       "   require.config({paths: {d3: \"https://d3js.org/d3.v5\"}});\n",
       "   require([\"d3\"], function(d3){\n",
       "      window.d3 = d3;\n",
       "      LDAvis_load_lib(\"https://cdn.jsdelivr.net/gh/bmabey/pyLDAvis@3.3.1/pyLDAvis/js/ldavis.v3.0.0.js\", function(){\n",
       "        new LDAvis(\"#\" + \"ldavis_el3113553178628963511803881\", ldavis_el3113553178628963511803881_data);\n",
       "      });\n",
       "    });\n",
       "}else{\n",
       "    // require.js not available: dynamically load d3 & LDAvis\n",
       "    LDAvis_load_lib(\"https://d3js.org/d3.v5.js\", function(){\n",
       "         LDAvis_load_lib(\"https://cdn.jsdelivr.net/gh/bmabey/pyLDAvis@3.3.1/pyLDAvis/js/ldavis.v3.0.0.js\", function(){\n",
       "                 new LDAvis(\"#\" + \"ldavis_el3113553178628963511803881\", ldavis_el3113553178628963511803881_data);\n",
       "            })\n",
       "         });\n",
       "}\n",
       "</script>"
      ],
      "text/plain": [
       "<IPython.core.display.HTML object>"
      ]
     },
     "execution_count": 9,
     "metadata": {},
     "output_type": "execute_result"
    }
   ],
   "source": [
    "model.train(data=data)"
   ]
  }
 ],
 "metadata": {
  "interpreter": {
   "hash": "fbe3056ddfc4b36596b2e3474972e3f1a3754ef1dc18c2bda31aeffbb1960dd1"
  },
  "kernelspec": {
   "display_name": "Python 3.9.5 64-bit ('venv': venv)",
   "name": "python3"
  },
  "language_info": {
   "codemirror_mode": {
    "name": "ipython",
    "version": 3
   },
   "file_extension": ".py",
   "mimetype": "text/x-python",
   "name": "python",
   "nbconvert_exporter": "python",
   "pygments_lexer": "ipython3",
   "version": "3.9.5"
  },
  "orig_nbformat": 4
 },
 "nbformat": 4,
 "nbformat_minor": 2
}
