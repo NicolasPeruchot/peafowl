{
 "cells": [
  {
   "cell_type": "code",
   "execution_count": 2,
   "metadata": {},
   "outputs": [
    {
     "name": "stdout",
     "output_type": "stream",
     "text": [
      "/Users/nicolas.peruchot/workdir\n"
     ]
    }
   ],
   "source": [
    "cd .."
   ]
  },
  {
   "cell_type": "code",
   "execution_count": 4,
   "metadata": {},
   "outputs": [],
   "source": [
    "from peafowl.models.lda import LDA\n",
    "from datasets import load_dataset\n",
    "import pandas as pd\n"
   ]
  },
  {
   "cell_type": "code",
   "execution_count": 5,
   "metadata": {},
   "outputs": [
    {
     "name": "stderr",
     "output_type": "stream",
     "text": [
      "Reusing dataset amazon_reviews_multi (/Users/nicolas.peruchot/.cache/huggingface/datasets/amazon_reviews_multi/en/1.0.0/724e94f4b0c6c405ce7e476a6c5ef4f87db30799ad49f765094cf9770e0f7609)\n",
      "100%|██████████| 3/3 [00:00<00:00, 270.69it/s]\n"
     ]
    }
   ],
   "source": [
    "data_tot = load_dataset('amazon_reviews_multi','en')['train']\n",
    "data=data_tot['review_body']\n",
    "stars=data_tot['stars']\n",
    "\n",
    "data=pd.Series([e for i,e in enumerate(data) if i<1000 or i>198999])\n",
    "stars=pd.Series([e for i,e in enumerate(stars) if i<1000 or i>198999])"
   ]
  },
  {
   "cell_type": "code",
   "execution_count": 7,
   "metadata": {},
   "outputs": [],
   "source": [
    "model=LDA(k=2)"
   ]
  },
  {
   "cell_type": "code",
   "execution_count": 8,
   "metadata": {},
   "outputs": [
    {
     "data": {
      "text/plain": [
       "771                                                                                                                                           Ordered on the 11th of July and here it is the 24th and still no order has arrived\n",
       "1338                                                                                                                                                                       What I like the most is that what see is what you get\n",
       "1420                                                                                                  Mary did some slow work. The author did a bang up job. Kept the story exciting and could follow along easy. Great story!!!\n",
       "698     This is happening too many times, receiving the wrong item. I received the wrong book before and now I received the wrong puzzle. I kept the puzzle because I did not have it. Again I am very disappointed with Amazon.\n",
       "1389                                                                                                                                                                                              Helps with my dry flakey skin!\n",
       "1988                                                                                                     This product is great easy to set up and works great. The sound quality is perfect and it never cuts out great product!\n",
       "618                                                                                                                                                                                 Did not work at all. Was a gift for a child.\n",
       "141                                                                                                                                                                                                         I never got my stuff\n",
       "1740                                                       I use this product on very tough to clean windows near the ocean. the windows are covered with salt after the winter. This product is easy to use and very effective.\n",
       "4                                                                                                                                    went through 3 in one day doesn't fit correct and couldn't get bubbles out (better without)\n",
       "dtype: object"
      ]
     },
     "execution_count": 8,
     "metadata": {},
     "output_type": "execute_result"
    }
   ],
   "source": [
    "model.explore(data=data)"
   ]
  },
  {
   "cell_type": "code",
   "execution_count": 9,
   "metadata": {},
   "outputs": [
    {
     "data": {
      "application/vnd.jupyter.widget-view+json": {
       "model_id": "2c24073d553a4501bb5b87edc84c8f1e",
       "version_major": 2,
       "version_minor": 0
      },
      "text/plain": [
       "Text(value='', description='New topic:', placeholder='Topic name')"
      ]
     },
     "metadata": {},
     "output_type": "display_data"
    },
    {
     "data": {
      "application/vnd.jupyter.widget-view+json": {
       "model_id": "76b8a91d32314d12adf130639d9c1907",
       "version_major": 2,
       "version_minor": 0
      },
      "text/plain": [
       "Button(description='Add topic', style=ButtonStyle(), tooltip='Add topic')"
      ]
     },
     "metadata": {},
     "output_type": "display_data"
    },
    {
     "data": {
      "application/vnd.jupyter.widget-view+json": {
       "model_id": "c720fb3a4d71474a945417f7921ce054",
       "version_major": 2,
       "version_minor": 0
      },
      "text/plain": [
       "Output()"
      ]
     },
     "metadata": {},
     "output_type": "display_data"
    }
   ],
   "source": [
    "model.add_topics()"
   ]
  },
  {
   "cell_type": "code",
   "execution_count": 10,
   "metadata": {},
   "outputs": [
    {
     "data": {
      "application/vnd.jupyter.widget-view+json": {
       "model_id": "77e3913f8fac4b21ad5767654d634034",
       "version_major": 2,
       "version_minor": 0
      },
      "text/plain": [
       "Dropdown(description='Topic:', options=('Positive', 'Negative'), value='Positive')"
      ]
     },
     "metadata": {},
     "output_type": "display_data"
    },
    {
     "data": {
      "application/vnd.jupyter.widget-view+json": {
       "model_id": "3ccfefb95584430a91bad6c96b7fdfa4",
       "version_major": 2,
       "version_minor": 0
      },
      "text/plain": [
       "Text(value='', description='New seed:', placeholder='Word')"
      ]
     },
     "metadata": {},
     "output_type": "display_data"
    },
    {
     "data": {
      "application/vnd.jupyter.widget-view+json": {
       "model_id": "17817c86ce5e44299a3f99d3f2d2b1b8",
       "version_major": 2,
       "version_minor": 0
      },
      "text/plain": [
       "Button(description='Add seed', style=ButtonStyle(), tooltip='Add seed')"
      ]
     },
     "metadata": {},
     "output_type": "display_data"
    },
    {
     "data": {
      "application/vnd.jupyter.widget-view+json": {
       "model_id": "d612800551794acfb978064d7a6c2b94",
       "version_major": 2,
       "version_minor": 0
      },
      "text/plain": [
       "Output()"
      ]
     },
     "metadata": {},
     "output_type": "display_data"
    }
   ],
   "source": [
    "model.add_seeds()"
   ]
  },
  {
   "cell_type": "code",
   "execution_count": 12,
   "metadata": {},
   "outputs": [],
   "source": [
    "model.fit(data=data)"
   ]
  },
  {
   "cell_type": "code",
   "execution_count": 13,
   "metadata": {},
   "outputs": [
    {
     "name": "stderr",
     "output_type": "stream",
     "text": [
      "/Users/nicolas.peruchot/workdir/peafowl/venv/lib/python3.9/site-packages/past/builtins/misc.py:45: DeprecationWarning: the imp module is deprecated in favour of importlib; see the module's documentation for alternative uses\n",
      "  from imp import reload\n",
      "/Users/nicolas.peruchot/workdir/peafowl/venv/lib/python3.9/site-packages/past/builtins/misc.py:45: DeprecationWarning: the imp module is deprecated in favour of importlib; see the module's documentation for alternative uses\n",
      "  from imp import reload\n",
      "/Users/nicolas.peruchot/workdir/peafowl/venv/lib/python3.9/site-packages/past/builtins/misc.py:45: DeprecationWarning: the imp module is deprecated in favour of importlib; see the module's documentation for alternative uses\n",
      "  from imp import reload\n",
      "/Users/nicolas.peruchot/workdir/peafowl/venv/lib/python3.9/site-packages/past/builtins/misc.py:45: DeprecationWarning: the imp module is deprecated in favour of importlib; see the module's documentation for alternative uses\n",
      "  from imp import reload\n",
      "/Users/nicolas.peruchot/workdir/peafowl/venv/lib/python3.9/site-packages/past/builtins/misc.py:45: DeprecationWarning: the imp module is deprecated in favour of importlib; see the module's documentation for alternative uses\n",
      "  from imp import reload\n",
      "/Users/nicolas.peruchot/workdir/peafowl/venv/lib/python3.9/site-packages/past/builtins/misc.py:45: DeprecationWarning: the imp module is deprecated in favour of importlib; see the module's documentation for alternative uses\n",
      "  from imp import reload\n",
      "/Users/nicolas.peruchot/workdir/peafowl/venv/lib/python3.9/site-packages/past/builtins/misc.py:45: DeprecationWarning: the imp module is deprecated in favour of importlib; see the module's documentation for alternative uses\n",
      "  from imp import reload\n",
      "/Users/nicolas.peruchot/workdir/peafowl/venv/lib/python3.9/site-packages/past/builtins/misc.py:45: DeprecationWarning: the imp module is deprecated in favour of importlib; see the module's documentation for alternative uses\n",
      "  from imp import reload\n"
     ]
    },
    {
     "data": {
      "text/html": [
       "\n",
       "<link rel=\"stylesheet\" type=\"text/css\" href=\"https://cdn.jsdelivr.net/gh/bmabey/pyLDAvis@3.3.1/pyLDAvis/js/ldavis.v1.0.0.css\">\n",
       "\n",
       "\n",
       "<div id=\"ldavis_el2158253959399527143981851\"></div>\n",
       "<script type=\"text/javascript\">\n",
       "\n",
       "var ldavis_el2158253959399527143981851_data = {\"mdsDat\": {\"x\": [0.29672961937829645, -0.29672961937829645], \"y\": [0.0, 0.0], \"topics\": [1, 2], \"cluster\": [1, 1], \"Freq\": [60.19839910410379, 39.80160089589621]}, \"tinfo\": {\"Term\": [\"work\", \"great\", \"good\", \"go\", \"receive\", \"want\", \"quality\", \"fit\", \"find\", \"feel\", \"take\", \"book\", \"money\", \"start\", \"right\", \"light\", \"wear\", \"water\", \"month\", \"read\", \"clean\", \"sure\", \"item\", \"big\", \"recommend\", \"break\", \"hard\", \"review\", \"arrive\", \"stick\", \"work\", \"great\", \"good\", \"receive\", \"quality\", \"fit\", \"money\", \"light\", \"month\", \"item\", \"recommend\", \"break\", \"need\", \"nice\", \"perfect\", \"color\", \"price\", \"way\", \"2\", \"send\", \"charge\", \"size\", \"thing\", \"case\", \"cheap\", \"phone\", \"picture\", \"3\", \"old\", \"new\", \"easy\", \"product\", \"buy\", \"waste\", \"come\", \"use\", \"like\", \"look\", \"purchase\", \"love\", \"time\", \"go\", \"want\", \"find\", \"feel\", \"take\", \"book\", \"start\", \"right\", \"wear\", \"water\", \"read\", \"clean\", \"sure\", \"big\", \"hard\", \"review\", \"stick\", \"away\", \"turn\", \"know\", \"help\", \"make\", \"smell\", \"stay\", \"give\", \"leave\", \"dog\", \"second\", \"super\", \"son\", \"arrive\", \"return\", \"open\", \"try\", \"day\", \"love\", \"like\", \"time\", \"order\", \"Amazon\", \"get\", \"look\", \"use\", \"buy\"], \"Freq\": [395.0, 297.0, 254.0, 94.0, 154.0, 82.0, 137.0, 135.0, 71.0, 71.0, 68.0, 68.0, 121.0, 63.0, 63.0, 112.0, 61.0, 57.0, 104.0, 56.0, 55.0, 55.0, 98.0, 53.0, 96.0, 96.0, 52.0, 52.0, 56.0, 51.0, 395.6294817551391, 297.97026010648756, 254.12325090678843, 154.4709765132352, 137.53008865682605, 135.53703591192436, 121.58573473227462, 112.61702761784463, 104.64484687586547, 98.6657113193811, 96.67266613388631, 96.67266613388631, 92.68657576289674, 89.69700420495111, 89.69700420495111, 88.70048539190716, 85.71091383396153, 80.728304649928, 79.73177827747716, 76.74221427893842, 75.74568790648759, 74.74916909344364, 73.7526427209928, 73.7526427209928, 69.76655235000322, 69.76655235000322, 68.77003353695928, 68.77003353695928, 67.77350716450843, 66.77698835146448, 142.51270540026647, 288.0050266196067, 264.08848439366926, 79.73177827747716, 123.57877991776941, 150.4848861422456, 166.42924762620393, 128.56138154239605, 103.64832806282152, 133.54399828583647, 93.68309457594069, 94.67436669507794, 82.716756945559, 71.75561467516663, 71.75561467516663, 68.76621223778689, 68.76621223778689, 63.783874842154, 63.783874842154, 61.79093988390084, 57.80506996739453, 56.80860248826795, 55.81213500914137, 55.81213500914137, 53.81920005088821, 52.822732571761634, 52.822732571761634, 51.826265092635055, 50.829797613508475, 48.83686265525532, 46.843927697002165, 45.847460217875586, 44.85099273874901, 44.85099273874901, 43.85452525962243, 41.86159030136927, 41.86159030136927, 41.86159030136927, 37.87572038486295, 37.87572038486295, 37.87572038486295, 55.81213500914137, 92.68143173682478, 44.85099273874901, 88.69556182031846, 85.70615938293872, 139.51538326344857, 115.60017376057338, 91.6849642576982, 81.72028946643242, 51.826265092635055, 68.76621223778689, 55.81213500914137, 53.81920005088821, 50.829797613508475], \"Total\": [395.0, 297.0, 254.0, 94.0, 154.0, 82.0, 137.0, 135.0, 71.0, 71.0, 68.0, 68.0, 121.0, 63.0, 63.0, 112.0, 61.0, 57.0, 104.0, 56.0, 55.0, 55.0, 98.0, 53.0, 96.0, 96.0, 52.0, 52.0, 56.0, 51.0, 395.6394464284661, 297.98022477981453, 254.1332155801154, 154.48094118656218, 137.54005333015303, 135.54700058525134, 121.59569940560161, 112.62699229117162, 104.65481154919246, 98.6756759927081, 96.6826308072133, 96.6826308072133, 92.69654043622373, 89.7069688782781, 89.7069688782781, 88.71045006523416, 85.72087850728852, 80.738269323255, 79.74174295080415, 76.75217895226541, 75.75565257981458, 74.75913376677063, 73.76260739431979, 73.76260739431979, 69.77651702333021, 69.77651702333021, 68.77999821028627, 68.77999821028627, 67.78347183783542, 66.78695302479147, 153.48381134583383, 334.8489543166089, 314.9182820071777, 81.73467753566548, 151.48983050944793, 204.30408619313383, 282.0294213867773, 184.37351655153742, 137.53818103021882, 273.05938154928504, 185.36805883363888, 94.6843319219651, 82.72672217244616, 71.76557990205379, 71.76557990205379, 68.77617746467405, 68.77617746467405, 63.79384006904116, 63.79384006904116, 61.800905110788, 57.81503519428169, 56.81856771515511, 55.82210023602853, 55.82210023602853, 53.829165277775374, 52.832697798648795, 52.832697798648795, 51.836230319522215, 50.839762840395636, 48.84682788214248, 46.853892923889326, 45.85742544476275, 44.86095796563617, 44.86095796563617, 43.86449048650959, 41.87155552825643, 41.87155552825643, 41.87155552825643, 37.88568561175011, 37.88568561175011, 37.88568561175011, 56.81862290813494, 124.58012178272357, 47.8505259413531, 125.57686482995422, 122.58746239257448, 273.05938154928504, 282.0294213867773, 185.36805883363888, 157.46597737292, 64.79102493140748, 141.52233614573572, 184.37351655153742, 204.30408619313383, 314.9182820071777], \"Category\": [\"Default\", \"Default\", \"Default\", \"Default\", \"Default\", \"Default\", \"Default\", \"Default\", \"Default\", \"Default\", \"Default\", \"Default\", \"Default\", \"Default\", \"Default\", \"Default\", \"Default\", \"Default\", \"Default\", \"Default\", \"Default\", \"Default\", \"Default\", \"Default\", \"Default\", \"Default\", \"Default\", \"Default\", \"Default\", \"Default\", \"Topic1\", \"Topic1\", \"Topic1\", \"Topic1\", \"Topic1\", \"Topic1\", \"Topic1\", \"Topic1\", \"Topic1\", \"Topic1\", \"Topic1\", \"Topic1\", \"Topic1\", \"Topic1\", \"Topic1\", \"Topic1\", \"Topic1\", \"Topic1\", \"Topic1\", \"Topic1\", \"Topic1\", \"Topic1\", \"Topic1\", \"Topic1\", \"Topic1\", \"Topic1\", \"Topic1\", \"Topic1\", \"Topic1\", \"Topic1\", \"Topic1\", \"Topic1\", \"Topic1\", \"Topic1\", \"Topic1\", \"Topic1\", \"Topic1\", \"Topic1\", \"Topic1\", \"Topic1\", \"Topic1\", \"Topic2\", \"Topic2\", \"Topic2\", \"Topic2\", \"Topic2\", \"Topic2\", \"Topic2\", \"Topic2\", \"Topic2\", \"Topic2\", \"Topic2\", \"Topic2\", \"Topic2\", \"Topic2\", \"Topic2\", \"Topic2\", \"Topic2\", \"Topic2\", \"Topic2\", \"Topic2\", \"Topic2\", \"Topic2\", \"Topic2\", \"Topic2\", \"Topic2\", \"Topic2\", \"Topic2\", \"Topic2\", \"Topic2\", \"Topic2\", \"Topic2\", \"Topic2\", \"Topic2\", \"Topic2\", \"Topic2\", \"Topic2\", \"Topic2\", \"Topic2\", \"Topic2\", \"Topic2\", \"Topic2\", \"Topic2\", \"Topic2\", \"Topic2\"], \"logprob\": [30.0, 29.0, 28.0, 27.0, 26.0, 25.0, 24.0, 23.0, 22.0, 21.0, 20.0, 19.0, 18.0, 17.0, 16.0, 15.0, 14.0, 13.0, 12.0, 11.0, 10.0, 9.0, 8.0, 7.0, 6.0, 5.0, 4.0, 3.0, 2.0, 1.0, -3.7144, -3.9979, -4.157, -4.6548, -4.771, -4.7856, -4.8942, -4.9709, -5.0443, -5.1031, -5.1235, -5.1235, -5.1656, -5.1984, -5.1984, -5.2096, -5.2439, -5.3038, -5.3162, -5.3544, -5.3675, -5.3807, -5.3941, -5.3941, -5.4497, -5.4497, -5.4641, -5.4641, -5.4787, -5.4935, -4.7354, -4.0319, -4.1186, -5.3162, -4.878, -4.681, -4.5803, -4.8384, -5.0538, -4.8004, -5.1549, -4.7307, -4.8657, -5.0078, -5.0078, -5.0504, -5.0504, -5.1256, -5.1256, -5.1573, -5.224, -5.2414, -5.2591, -5.2591, -5.2955, -5.3142, -5.3142, -5.3332, -5.3526, -5.3926, -5.4343, -5.4558, -5.4778, -5.4778, -5.5002, -5.5467, -5.5467, -5.5467, -5.6468, -5.6468, -5.6468, -5.2591, -4.7519, -5.4778, -4.7959, -4.8302, -4.3429, -4.531, -4.7627, -4.8778, -5.3332, -5.0504, -5.2591, -5.2955, -5.3526], \"loglift\": [30.0, 29.0, 28.0, 27.0, 26.0, 25.0, 24.0, 23.0, 22.0, 21.0, 20.0, 19.0, 18.0, 17.0, 16.0, 15.0, 14.0, 13.0, 12.0, 11.0, 10.0, 9.0, 8.0, 7.0, 6.0, 5.0, 4.0, 3.0, 2.0, 1.0, 0.5075, 0.5075, 0.5075, 0.5075, 0.5075, 0.5075, 0.5074, 0.5074, 0.5074, 0.5074, 0.5074, 0.5074, 0.5074, 0.5074, 0.5074, 0.5074, 0.5074, 0.5074, 0.5074, 0.5074, 0.5074, 0.5074, 0.5074, 0.5074, 0.5074, 0.5074, 0.5074, 0.5074, 0.5074, 0.5074, 0.4334, 0.3568, 0.3315, 0.4827, 0.3039, 0.2018, -0.0199, 0.147, 0.2246, -0.2077, -0.1749, 0.9212, 0.9211, 0.9211, 0.9211, 0.9211, 0.9211, 0.9211, 0.9211, 0.9211, 0.9211, 0.9211, 0.9211, 0.9211, 0.9211, 0.9211, 0.9211, 0.9211, 0.9211, 0.9211, 0.9211, 0.921, 0.921, 0.921, 0.921, 0.921, 0.921, 0.921, 0.921, 0.921, 0.921, 0.9034, 0.6255, 0.8565, 0.5736, 0.5634, 0.2497, 0.0294, 0.2173, 0.2654, 0.698, 0.1995, -0.2737, -0.4127, -0.9026]}, \"token.table\": {\"Topic\": [1, 1, 1, 2, 1, 2, 2, 2, 2, 1, 1, 2, 1, 1, 1, 2, 1, 1, 2, 1, 2, 2, 1, 2, 2, 2, 1, 1, 2, 2, 2, 1, 1, 2, 2, 1, 2, 2, 1, 1, 2, 1, 2, 1, 2, 2, 1, 1, 1, 1, 1, 1, 1, 2, 1, 2, 1, 1, 1, 1, 1, 2, 1, 2, 1, 2, 1, 1, 1, 2, 2, 2, 2, 1, 1, 2, 2, 2, 2, 2, 2, 2, 2, 1, 1, 2, 1, 2, 2, 1, 2, 2, 1, 2, 2, 1, 2, 1], \"Freq\": [1.003238668226191, 1.0031986303494964, 0.20064507412504667, 0.8025802965001867, 0.017599863369036812, 0.9855923486660615, 1.0031518077711614, 1.0031736461329666, 1.0032543613730338, 1.003282587473437, 0.8383127150235845, 0.16194677449319247, 1.0032183326222617, 1.003225467828001, 1.0032028393821242, 1.0031869056022484, 1.003263989017674, 0.8185367927536662, 0.18483088868631173, 0.30182531947281105, 0.7015399317476149, 1.0030675829957378, 0.9316943509943767, 0.07166879623033667, 1.0032664697793308, 1.0032664697793308, 1.0033420098769632, 0.5158196365895674, 0.48755554691342673, 1.0030675829957378, 1.0033338998293304, 0.999475804137561, 1.0000663642031953, 1.0031666412718279, 1.003109083291407, 1.0032867675243073, 1.0031183551033425, 1.0030675829957378, 1.0033118855546106, 0.5885910738807152, 0.4113046058443552, 0.6996666463425673, 0.30373125732700595, 0.49073574853832325, 0.5127089910101884, 1.0030993995819335, 1.0033249580073533, 1.0032983524187542, 1.003273688126312, 1.0031899490178784, 1.0032665368742923, 1.0031944094377845, 0.06269523565272576, 0.9404285347908865, 0.48264394168152536, 0.5207474107616458, 1.0032665368742923, 1.0032028393821242, 1.0031986303494964, 1.0032561669638949, 0.860089291865275, 0.1403617941585692, 0.7561536674470773, 0.24720408358846757, 1.0033440925658428, 1.0031931865258281, 0.9968867280140314, 1.003282587473437, 0.2568628087859011, 0.7465075380340251, 1.0031666412718279, 1.003231658898974, 1.0030173503898379, 1.0032288470648985, 1.0032218970591715, 1.0030993995819335, 1.0030173503898379, 1.003231658898974, 1.0030892759037537, 1.003159367096494, 1.0030173503898379, 1.0031869056022484, 1.0032543613730338, 1.0032183326222617, 0.5070992305333553, 0.4963098852028583, 0.29464025917594244, 0.7087292720718615, 1.0031357638663272, 0.7341997059138661, 0.2643118941289918, 1.0033033803392353, 0.9787767250331594, 0.024469418125828982, 1.0031992509404648, 1.003241717700154, 1.003221552966823, 1.0009113185623646], \"Term\": [\"2\", \"3\", \"Amazon\", \"Amazon\", \"arrive\", \"arrive\", \"away\", \"big\", \"book\", \"break\", \"buy\", \"buy\", \"case\", \"charge\", \"cheap\", \"clean\", \"color\", \"come\", \"come\", \"day\", \"day\", \"dog\", \"easy\", \"easy\", \"feel\", \"find\", \"fit\", \"get\", \"get\", \"give\", \"go\", \"good\", \"great\", \"hard\", \"help\", \"item\", \"know\", \"leave\", \"light\", \"like\", \"like\", \"look\", \"look\", \"love\", \"love\", \"make\", \"money\", \"month\", \"need\", \"new\", \"nice\", \"old\", \"open\", \"open\", \"order\", \"order\", \"perfect\", \"phone\", \"picture\", \"price\", \"product\", \"product\", \"purchase\", \"purchase\", \"quality\", \"read\", \"receive\", \"recommend\", \"return\", \"return\", \"review\", \"right\", \"second\", \"send\", \"size\", \"smell\", \"son\", \"start\", \"stay\", \"stick\", \"super\", \"sure\", \"take\", \"thing\", \"time\", \"time\", \"try\", \"try\", \"turn\", \"use\", \"use\", \"want\", \"waste\", \"waste\", \"water\", \"way\", \"wear\", \"work\"]}, \"R\": 30, \"lambda.step\": 0.01, \"plot.opts\": {\"xlab\": \"PC1\", \"ylab\": \"PC2\"}, \"topic.order\": [1, 2]};\n",
       "\n",
       "function LDAvis_load_lib(url, callback){\n",
       "  var s = document.createElement('script');\n",
       "  s.src = url;\n",
       "  s.async = true;\n",
       "  s.onreadystatechange = s.onload = callback;\n",
       "  s.onerror = function(){console.warn(\"failed to load library \" + url);};\n",
       "  document.getElementsByTagName(\"head\")[0].appendChild(s);\n",
       "}\n",
       "\n",
       "if(typeof(LDAvis) !== \"undefined\"){\n",
       "   // already loaded: just create the visualization\n",
       "   !function(LDAvis){\n",
       "       new LDAvis(\"#\" + \"ldavis_el2158253959399527143981851\", ldavis_el2158253959399527143981851_data);\n",
       "   }(LDAvis);\n",
       "}else if(typeof define === \"function\" && define.amd){\n",
       "   // require.js is available: use it to load d3/LDAvis\n",
       "   require.config({paths: {d3: \"https://d3js.org/d3.v5\"}});\n",
       "   require([\"d3\"], function(d3){\n",
       "      window.d3 = d3;\n",
       "      LDAvis_load_lib(\"https://cdn.jsdelivr.net/gh/bmabey/pyLDAvis@3.3.1/pyLDAvis/js/ldavis.v3.0.0.js\", function(){\n",
       "        new LDAvis(\"#\" + \"ldavis_el2158253959399527143981851\", ldavis_el2158253959399527143981851_data);\n",
       "      });\n",
       "    });\n",
       "}else{\n",
       "    // require.js not available: dynamically load d3 & LDAvis\n",
       "    LDAvis_load_lib(\"https://d3js.org/d3.v5.js\", function(){\n",
       "         LDAvis_load_lib(\"https://cdn.jsdelivr.net/gh/bmabey/pyLDAvis@3.3.1/pyLDAvis/js/ldavis.v3.0.0.js\", function(){\n",
       "                 new LDAvis(\"#\" + \"ldavis_el2158253959399527143981851\", ldavis_el2158253959399527143981851_data);\n",
       "            })\n",
       "         });\n",
       "}\n",
       "</script>"
      ],
      "text/plain": [
       "<IPython.core.display.HTML object>"
      ]
     },
     "execution_count": 13,
     "metadata": {},
     "output_type": "execute_result"
    }
   ],
   "source": [
    "model.viz()"
   ]
  }
 ],
 "metadata": {
  "interpreter": {
   "hash": "fbe3056ddfc4b36596b2e3474972e3f1a3754ef1dc18c2bda31aeffbb1960dd1"
  },
  "kernelspec": {
   "display_name": "Python 3.9.5 64-bit ('venv': venv)",
   "name": "python3"
  },
  "language_info": {
   "codemirror_mode": {
    "name": "ipython",
    "version": 3
   },
   "file_extension": ".py",
   "mimetype": "text/x-python",
   "name": "python",
   "nbconvert_exporter": "python",
   "pygments_lexer": "ipython3",
   "version": "3.9.5"
  },
  "orig_nbformat": 4
 },
 "nbformat": 4,
 "nbformat_minor": 2
}
