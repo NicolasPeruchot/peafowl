{
 "cells": [
  {
   "cell_type": "code",
   "execution_count": 1,
   "metadata": {},
   "outputs": [
    {
     "name": "stdout",
     "output_type": "stream",
     "text": [
      "/Users/nicolas.peruchot/workdir/peafowl\n"
     ]
    }
   ],
   "source": [
    "cd .."
   ]
  },
  {
   "cell_type": "code",
   "execution_count": 2,
   "metadata": {},
   "outputs": [],
   "source": [
    "from peafowl.ipywidgets_interface.utils import GuidedLDAInterface\n",
    "from datasets import load_dataset\n",
    "import pandas as pd\n",
    "import ipywidgets"
   ]
  },
  {
   "cell_type": "code",
   "execution_count": 3,
   "metadata": {},
   "outputs": [
    {
     "name": "stderr",
     "output_type": "stream",
     "text": [
      "Reusing dataset amazon_reviews_multi (/Users/nicolas.peruchot/.cache/huggingface/datasets/amazon_reviews_multi/en/1.0.0/724e94f4b0c6c405ce7e476a6c5ef4f87db30799ad49f765094cf9770e0f7609)\n",
      "100%|██████████| 3/3 [00:00<00:00, 296.45it/s]\n"
     ]
    }
   ],
   "source": [
    "data_tot = load_dataset('amazon_reviews_multi','en')['train']\n",
    "data=data_tot['review_body']\n",
    "stars=data_tot['stars']\n",
    "\n",
    "data=pd.Series([e for i,e in enumerate(data) if i<1000 or i>198999])\n",
    "stars=pd.Series([e for i,e in enumerate(stars) if i<1000 or i>198999])"
   ]
  },
  {
   "cell_type": "code",
   "execution_count": 5,
   "metadata": {},
   "outputs": [],
   "source": [
    "model=GuidedLDAInterface(k=2)"
   ]
  },
  {
   "cell_type": "code",
   "execution_count": 6,
   "metadata": {},
   "outputs": [
    {
     "data": {
      "application/vnd.jupyter.widget-view+json": {
       "model_id": "30c3be2d3b95466f89184d3abb7fe657",
       "version_major": 2,
       "version_minor": 0
      },
      "text/plain": [
       "Text(value='', description='New topic:', placeholder='Topic name')"
      ]
     },
     "metadata": {},
     "output_type": "display_data"
    },
    {
     "data": {
      "application/vnd.jupyter.widget-view+json": {
       "model_id": "8377dbadbb1d48ac9ee5d6f69a958bd1",
       "version_major": 2,
       "version_minor": 0
      },
      "text/plain": [
       "Button(description='Add topic', style=ButtonStyle(), tooltip='Add topic')"
      ]
     },
     "metadata": {},
     "output_type": "display_data"
    },
    {
     "data": {
      "application/vnd.jupyter.widget-view+json": {
       "model_id": "aeba1701875448dba01ff89931b27de5",
       "version_major": 2,
       "version_minor": 0
      },
      "text/plain": [
       "Output()"
      ]
     },
     "metadata": {},
     "output_type": "display_data"
    }
   ],
   "source": [
    "model.add_topics()"
   ]
  },
  {
   "cell_type": "code",
   "execution_count": 7,
   "metadata": {},
   "outputs": [
    {
     "data": {
      "application/vnd.jupyter.widget-view+json": {
       "model_id": "8696945e535f43f0997641eced8f8887",
       "version_major": 2,
       "version_minor": 0
      },
      "text/plain": [
       "Dropdown(description='Topic:', options=('Positive', 'Negative'), value='Positive')"
      ]
     },
     "metadata": {},
     "output_type": "display_data"
    },
    {
     "data": {
      "application/vnd.jupyter.widget-view+json": {
       "model_id": "5b1cdcbbc9ac497882f528acdee93b67",
       "version_major": 2,
       "version_minor": 0
      },
      "text/plain": [
       "Text(value='', description='New seed:', placeholder='Word')"
      ]
     },
     "metadata": {},
     "output_type": "display_data"
    },
    {
     "data": {
      "application/vnd.jupyter.widget-view+json": {
       "model_id": "d0393d8abbba4959a835e25259cdd36f",
       "version_major": 2,
       "version_minor": 0
      },
      "text/plain": [
       "Button(description='Add seed', style=ButtonStyle(), tooltip='Add seed')"
      ]
     },
     "metadata": {},
     "output_type": "display_data"
    },
    {
     "data": {
      "application/vnd.jupyter.widget-view+json": {
       "model_id": "f279fe2ba4af4359b31caa703024fd25",
       "version_major": 2,
       "version_minor": 0
      },
      "text/plain": [
       "Output()"
      ]
     },
     "metadata": {},
     "output_type": "display_data"
    }
   ],
   "source": [
    "model.add_seeds()"
   ]
  },
  {
   "cell_type": "code",
   "execution_count": null,
   "metadata": {},
   "outputs": [],
   "source": [
    "model.train(data=data)"
   ]
  }
 ],
 "metadata": {
  "interpreter": {
   "hash": "fbe3056ddfc4b36596b2e3474972e3f1a3754ef1dc18c2bda31aeffbb1960dd1"
  },
  "kernelspec": {
   "display_name": "Python 3.9.5 64-bit ('venv': venv)",
   "name": "python3"
  },
  "language_info": {
   "codemirror_mode": {
    "name": "ipython",
    "version": 3
   },
   "file_extension": ".py",
   "mimetype": "text/x-python",
   "name": "python",
   "nbconvert_exporter": "python",
   "pygments_lexer": "ipython3",
   "version": "3.9.5"
  },
  "orig_nbformat": 4
 },
 "nbformat": 4,
 "nbformat_minor": 2
}
