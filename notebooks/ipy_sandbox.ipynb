{
 "cells": [
  {
   "cell_type": "code",
   "execution_count": 1,
   "metadata": {},
   "outputs": [
    {
     "name": "stdout",
     "output_type": "stream",
     "text": [
      "/Users/nicolas.peruchot/workdir/peafowl\n"
     ]
    }
   ],
   "source": [
    "cd .."
   ]
  },
  {
   "cell_type": "code",
   "execution_count": 3,
   "metadata": {},
   "outputs": [],
   "source": [
    "from peafowl.ipywidgets_interface.utils import GuidedLDAInterface\n",
    "from datasets import load_dataset\n",
    "import pandas as pd"
   ]
  },
  {
   "cell_type": "code",
   "execution_count": 4,
   "metadata": {},
   "outputs": [
    {
     "name": "stderr",
     "output_type": "stream",
     "text": [
      "Reusing dataset amazon_reviews_multi (/Users/nicolas.peruchot/.cache/huggingface/datasets/amazon_reviews_multi/en/1.0.0/724e94f4b0c6c405ce7e476a6c5ef4f87db30799ad49f765094cf9770e0f7609)\n",
      "100%|██████████| 3/3 [00:00<00:00, 232.11it/s]\n"
     ]
    }
   ],
   "source": [
    "data_tot = load_dataset('amazon_reviews_multi','en')['train']\n",
    "data=data_tot['review_body']\n",
    "stars=data_tot['stars']\n",
    "\n",
    "data=pd.Series([e for i,e in enumerate(data) if i<1000 or i>198999])\n",
    "stars=pd.Series([e for i,e in enumerate(stars) if i<1000 or i>198999])"
   ]
  },
  {
   "cell_type": "code",
   "execution_count": 5,
   "metadata": {},
   "outputs": [],
   "source": [
    "model=GuidedLDAInterface(k=2)"
   ]
  },
  {
   "cell_type": "code",
   "execution_count": 6,
   "metadata": {},
   "outputs": [
    {
     "data": {
      "application/vnd.jupyter.widget-view+json": {
       "model_id": "8fbdb2549a5646e4b7ae10efee70b978",
       "version_major": 2,
       "version_minor": 0
      },
      "text/plain": [
       "Text(value='', description='String:', placeholder='Topic name')"
      ]
     },
     "metadata": {},
     "output_type": "display_data"
    },
    {
     "data": {
      "application/vnd.jupyter.widget-view+json": {
       "model_id": "941d8f6de1fb4eff8fb85774e703ef76",
       "version_major": 2,
       "version_minor": 0
      },
      "text/plain": [
       "Button(description='Add topic', style=ButtonStyle(), tooltip='Add topic')"
      ]
     },
     "metadata": {},
     "output_type": "display_data"
    }
   ],
   "source": [
    "model.add_topics()"
   ]
  },
  {
   "cell_type": "code",
   "execution_count": 7,
   "metadata": {},
   "outputs": [
    {
     "data": {
      "text/plain": [
       "['Positive', 'Negative']"
      ]
     },
     "execution_count": 7,
     "metadata": {},
     "output_type": "execute_result"
    }
   ],
   "source": [
    "model.topics"
   ]
  },
  {
   "cell_type": "code",
   "execution_count": 8,
   "metadata": {},
   "outputs": [
    {
     "data": {
      "application/vnd.jupyter.widget-view+json": {
       "model_id": "0a305454460640919a744b4cb7e71233",
       "version_major": 2,
       "version_minor": 0
      },
      "text/plain": [
       "Dropdown(description='Topic:', options=('Positive', 'Negative'), value='Positive')"
      ]
     },
     "metadata": {},
     "output_type": "display_data"
    },
    {
     "data": {
      "application/vnd.jupyter.widget-view+json": {
       "model_id": "dafd46498f2742d88177e5a0ad722a50",
       "version_major": 2,
       "version_minor": 0
      },
      "text/plain": [
       "Text(value='', description='String:', placeholder='Word')"
      ]
     },
     "metadata": {},
     "output_type": "display_data"
    },
    {
     "data": {
      "application/vnd.jupyter.widget-view+json": {
       "model_id": "1cc63741d75c458596bb666848ccf43f",
       "version_major": 2,
       "version_minor": 0
      },
      "text/plain": [
       "Button(description='Add seed', style=ButtonStyle(), tooltip='Add seed')"
      ]
     },
     "metadata": {},
     "output_type": "display_data"
    }
   ],
   "source": [
    "model.add_seeds()"
   ]
  },
  {
   "cell_type": "code",
   "execution_count": 9,
   "metadata": {},
   "outputs": [
    {
     "data": {
      "text/plain": [
       "{'Positive': ['good'], 'Negative': ['Break']}"
      ]
     },
     "execution_count": 9,
     "metadata": {},
     "output_type": "execute_result"
    }
   ],
   "source": [
    "model.seeds"
   ]
  },
  {
   "cell_type": "code",
   "execution_count": 10,
   "metadata": {},
   "outputs": [
    {
     "data": {
      "text/html": [
       "\n",
       "<link rel=\"stylesheet\" type=\"text/css\" href=\"https://cdn.jsdelivr.net/gh/bmabey/pyLDAvis@3.3.1/pyLDAvis/js/ldavis.v1.0.0.css\">\n",
       "\n",
       "\n",
       "<div id=\"ldavis_el1005053879037125337732176\"></div>\n",
       "<script type=\"text/javascript\">\n",
       "\n",
       "var ldavis_el1005053879037125337732176_data = {\"mdsDat\": {\"x\": [0.3012188768381745, -0.3012188768381745], \"y\": [0.0, 0.0], \"topics\": [1, 2], \"cluster\": [1, 1], \"Freq\": [51.046312110569346, 48.953687889430654]}, \"tinfo\": {\"Term\": [\"great\", \"love\", \"good\", \"look\", \"receive\", \"easy\", \"quality\", \"try\", \"return\", \"day\", \"money\", \"light\", \"month\", \"break\", \"go\", \"item\", \"recommend\", \"product\", \"small\", \"perfect\", \"nice\", \"color\", \"want\", \"waste\", \"week\", \"way\", \"price\", \"box\", \"2\", \"long\", \"great\", \"love\", \"good\", \"look\", \"receive\", \"easy\", \"quality\", \"light\", \"item\", \"recommend\", \"nice\", \"perfect\", \"small\", \"color\", \"price\", \"box\", \"year\", \"picture\", \"book\", \"old\", \"new\", \"water\", \"arrive\", \"read\", \"set\", \"clean\", \"hard\", \"gift\", \"happy\", \"package\", \"product\", \"fit\", \"purchase\", \"buy\", \"come\", \"use\", \"size\", \"work\", \"like\", \"order\", \"try\", \"return\", \"day\", \"money\", \"break\", \"go\", \"want\", \"waste\", \"way\", \"week\", \"long\", \"2\", \"charge\", \"case\", \"find\", \"cheap\", \"take\", \"3\", \"Amazon\", \"start\", \"right\", \"fall\", \"wear\", \"say\", \"sure\", \"big\", \"review\", \"issue\", \"stick\", \"away\", \"month\", \"work\", \"time\", \"like\", \"get\", \"buy\", \"use\", \"order\", \"product\"], \"Freq\": [297.0, 273.0, 254.0, 184.0, 154.0, 153.0, 137.0, 125.0, 124.0, 122.0, 121.0, 112.0, 104.0, 96.0, 94.0, 98.0, 96.0, 334.0, 89.0, 89.0, 89.0, 88.0, 82.0, 81.0, 80.0, 80.0, 85.0, 84.0, 79.0, 79.0, 297.9558629851164, 273.0440041739687, 254.11098019566, 184.35775757607024, 154.46351931053178, 153.46703829154617, 137.52344454992567, 112.61158573877792, 98.66094762499428, 96.66799840729172, 89.69267614533274, 89.69267614533274, 89.69267614533274, 88.69620153648145, 85.70677770992761, 84.71030310107632, 73.74908240371222, 68.7667093594558, 68.7667093594558, 67.77023475060453, 66.77376014175324, 57.805488662091705, 56.809014053240425, 56.809014053240425, 55.81253944438914, 55.81253944438914, 52.82311561783529, 52.82311561783529, 51.82664100898401, 51.82664100898401, 272.0475359752517, 120.58338260958818, 121.57986362857378, 190.33660522917793, 110.61863652107536, 105.63626988695326, 63.7843363151994, 109.62216832235839, 88.69620153648145, 73.74908240371222, 125.57225599144859, 124.57573314018583, 122.58267514295376, 121.586152291691, 96.67300109452943, 94.67994924465064, 82.72163814537787, 81.72510914676184, 80.72858629549908, 80.72858629549908, 79.73205729688304, 79.73205729688304, 75.74595359712545, 73.75290174724665, 71.75984989736787, 69.76679804748908, 68.77026904887303, 68.77026904887303, 64.78416534911544, 63.787636350499405, 63.787636350499405, 61.79458450062061, 61.79458450062061, 58.80500365212578, 55.81542895098423, 53.82237710110544, 52.825848102489395, 51.82931910387336, 51.82931910387336, 50.832796252610606, 103.64867949542857, 286.01296371713454, 149.48887818999413, 193.33603118203416, 111.62089918965032, 124.57573314018583, 98.66605294440822, 83.71816099664063, 62.79110735188337], \"Total\": [297.0, 273.0, 254.0, 184.0, 154.0, 153.0, 137.0, 125.0, 124.0, 122.0, 121.0, 112.0, 104.0, 96.0, 94.0, 98.0, 96.0, 334.0, 89.0, 89.0, 89.0, 88.0, 82.0, 81.0, 80.0, 80.0, 85.0, 84.0, 79.0, 79.0, 297.9658282462569, 273.05396943510914, 254.12094545680043, 184.36772283721066, 154.4734845716722, 153.4770035526866, 137.5334098110661, 112.62155099991834, 98.6709128861347, 96.67796366843214, 89.70264140647316, 89.70264140647316, 89.70264140647316, 88.70616679762188, 85.71674297106803, 84.72026836221674, 73.75904766485264, 68.77667462059622, 68.77667462059622, 67.78020001174495, 66.78372540289367, 57.81545392323213, 56.81897931438085, 56.81897931438085, 55.82250470552956, 55.82250470552956, 52.833080878975714, 52.833080878975714, 51.836606270124435, 51.836606270124435, 334.83864332713506, 135.5412394170272, 137.5342463609522, 314.91233836936374, 151.48617045061536, 204.3023228313615, 74.75608942288083, 395.63513203949293, 282.0322327185156, 157.46724340035286, 125.5822207369424, 124.58569788567965, 122.59263988844758, 121.59611703718481, 96.68296584002324, 94.68991399014446, 82.73160289087168, 81.73507389225566, 80.7385510409929, 80.7385510409929, 79.74202204237686, 79.74202204237686, 75.75591834261927, 73.76286649274047, 71.76981464286169, 69.7767627929829, 68.78023379436685, 68.78023379436685, 64.79413009460926, 63.79760109599323, 63.79760109599323, 61.80454924611443, 61.80454924611443, 58.8149683976196, 55.82539369647805, 53.83234184659926, 52.83581284798322, 51.839283849367185, 51.839283849367185, 50.84276099810443, 104.65511875822268, 395.63513203949293, 185.37192545735763, 282.0322327185156, 141.52510200897328, 314.91233836936374, 204.3023228313615, 157.46724340035286, 334.83864332713506], \"Category\": [\"Default\", \"Default\", \"Default\", \"Default\", \"Default\", \"Default\", \"Default\", \"Default\", \"Default\", \"Default\", \"Default\", \"Default\", \"Default\", \"Default\", \"Default\", \"Default\", \"Default\", \"Default\", \"Default\", \"Default\", \"Default\", \"Default\", \"Default\", \"Default\", \"Default\", \"Default\", \"Default\", \"Default\", \"Default\", \"Default\", \"Topic1\", \"Topic1\", \"Topic1\", \"Topic1\", \"Topic1\", \"Topic1\", \"Topic1\", \"Topic1\", \"Topic1\", \"Topic1\", \"Topic1\", \"Topic1\", \"Topic1\", \"Topic1\", \"Topic1\", \"Topic1\", \"Topic1\", \"Topic1\", \"Topic1\", \"Topic1\", \"Topic1\", \"Topic1\", \"Topic1\", \"Topic1\", \"Topic1\", \"Topic1\", \"Topic1\", \"Topic1\", \"Topic1\", \"Topic1\", \"Topic1\", \"Topic1\", \"Topic1\", \"Topic1\", \"Topic1\", \"Topic1\", \"Topic1\", \"Topic1\", \"Topic1\", \"Topic1\", \"Topic2\", \"Topic2\", \"Topic2\", \"Topic2\", \"Topic2\", \"Topic2\", \"Topic2\", \"Topic2\", \"Topic2\", \"Topic2\", \"Topic2\", \"Topic2\", \"Topic2\", \"Topic2\", \"Topic2\", \"Topic2\", \"Topic2\", \"Topic2\", \"Topic2\", \"Topic2\", \"Topic2\", \"Topic2\", \"Topic2\", \"Topic2\", \"Topic2\", \"Topic2\", \"Topic2\", \"Topic2\", \"Topic2\", \"Topic2\", \"Topic2\", \"Topic2\", \"Topic2\", \"Topic2\", \"Topic2\", \"Topic2\", \"Topic2\", \"Topic2\", \"Topic2\"], \"logprob\": [30.0, 29.0, 28.0, 27.0, 26.0, 25.0, 24.0, 23.0, 22.0, 21.0, 20.0, 19.0, 18.0, 17.0, 16.0, 15.0, 14.0, 13.0, 12.0, 11.0, 10.0, 9.0, 8.0, 7.0, 6.0, 5.0, 4.0, 3.0, 2.0, 1.0, -3.833, -3.9203, -3.9922, -4.3131, -4.49, -4.4964, -4.6061, -4.806, -4.9382, -4.9586, -5.0335, -5.0335, -5.0335, -5.0447, -5.079, -5.0907, -5.2293, -5.2992, -5.2992, -5.3138, -5.3286, -5.4728, -5.4902, -5.4902, -5.5079, -5.5079, -5.563, -5.563, -5.582, -5.582, -3.924, -4.7376, -4.7294, -4.2811, -4.8238, -4.8699, -5.3744, -4.8329, -5.0447, -5.2293, -4.6552, -4.6632, -4.6793, -4.6875, -4.9167, -4.9376, -5.0726, -5.0847, -5.097, -5.097, -5.1094, -5.1094, -5.1607, -5.1874, -5.2147, -5.2429, -5.2573, -5.2573, -5.317, -5.3325, -5.3325, -5.3643, -5.3643, -5.4138, -5.466, -5.5024, -5.5211, -5.5401, -5.5401, -5.5595, -4.8471, -3.832, -4.4809, -4.2236, -4.773, -4.6632, -4.8963, -5.0606, -5.3483], \"loglift\": [30.0, 29.0, 28.0, 27.0, 26.0, 25.0, 24.0, 23.0, 22.0, 21.0, 20.0, 19.0, 18.0, 17.0, 16.0, 15.0, 14.0, 13.0, 12.0, 11.0, 10.0, 9.0, 8.0, 7.0, 6.0, 5.0, 4.0, 3.0, 2.0, 1.0, 0.6724, 0.6724, 0.6724, 0.6724, 0.6724, 0.6724, 0.6724, 0.6723, 0.6723, 0.6723, 0.6723, 0.6723, 0.6723, 0.6723, 0.6723, 0.6723, 0.6723, 0.6723, 0.6723, 0.6723, 0.6723, 0.6723, 0.6723, 0.6723, 0.6723, 0.6723, 0.6722, 0.6722, 0.6722, 0.6722, 0.4648, 0.5555, 0.5491, 0.1689, 0.358, 0.0128, 0.5137, -0.611, -0.4844, -0.0861, 0.7142, 0.7142, 0.7142, 0.7142, 0.7142, 0.7142, 0.7142, 0.7142, 0.7142, 0.7142, 0.7142, 0.7142, 0.7142, 0.7142, 0.7142, 0.7142, 0.7142, 0.7142, 0.7141, 0.7141, 0.7141, 0.7141, 0.7141, 0.7141, 0.7141, 0.7141, 0.7141, 0.7141, 0.7141, 0.7141, 0.7046, 0.3898, 0.4992, 0.3367, 0.4769, -0.2131, -0.0136, 0.0825, -0.9595]}, \"token.table\": {\"Topic\": [2, 2, 2, 1, 2, 2, 1, 1, 2, 1, 2, 2, 2, 2, 1, 1, 1, 2, 2, 1, 2, 2, 1, 2, 1, 2, 1, 2, 1, 1, 1, 1, 2, 1, 1, 1, 2, 2, 1, 1, 2, 1, 2, 1, 1, 1, 1, 2, 1, 1, 1, 1, 1, 2, 1, 2, 1, 1, 1, 1, 2, 2, 2, 2, 1, 1, 2, 1, 2, 2, 2, 2, 1, 2, 2, 1, 2, 2, 2, 1, 2, 2, 2, 1, 2, 1], \"Freq\": [1.0032351569601037, 1.0031951942223718, 1.0031772925277358, 1.0031859193495463, 1.0030926526964463, 1.0031144503034717, 1.0032471092944772, 1.0033018266253275, 1.0032791108260097, 0.6033425078986494, 0.3969358604596378, 1.0032148087314756, 1.0032219483668172, 1.0031993058732092, 1.0031796368759651, 1.003312432641222, 0.7327401548921333, 0.2706517689241213, 1.0033228757609192, 0.9968920193798099, 1.0031624007661193, 1.0032072725599717, 0.8927172314524336, 0.11066742538666532, 0.21197652977560033, 0.7913790444955746, 1.0031593675448653, 1.0032747522601806, 0.9995240634077486, 1.0001146834653634, 1.003152091574516, 1.0031593675448653, 1.0031002772164026, 1.0033351988366122, 1.003360360399245, 0.31556676746528867, 0.6843189451775361, 1.0032351569601037, 0.9980054923304805, 0.9998023488352109, 1.003321512007589, 0.009555194355187053, 0.9937402129394535, 1.0032384326540873, 1.003314936872142, 1.0032428347543525, 0.4699390070089598, 0.5334442782263868, 1.003152091574516, 1.003314936872142, 1.0032471092944772, 1.0033045706021235, 0.8123315675193973, 0.18815032630044864, 0.8870517942114337, 0.11633466153592573, 1.0033925588667865, 1.0031859193495463, 0.9969348488966563, 1.003331021045006, 1.003325438805187, 1.00310749741826, 1.003172515902318, 1.0031459950999122, 1.0031796368759651, 0.8561175483372906, 0.14714520362047182, 1.003314936872142, 1.003172515902318, 1.0031002772164026, 1.0031277218477184, 1.0031951942223718, 0.19420416501139126, 0.8037894607415915, 1.0033267389333138, 0.5188389369781968, 0.4845759883098254, 1.0032441908502892, 1.0032412781334679, 1.0031919852607734, 1.0032382171296876, 1.0031624007661193, 1.0032382171296876, 0.278033953741549, 0.7228882797280274, 1.0032667495415912], \"Term\": [\"2\", \"3\", \"Amazon\", \"arrive\", \"away\", \"big\", \"book\", \"box\", \"break\", \"buy\", \"buy\", \"case\", \"charge\", \"cheap\", \"clean\", \"color\", \"come\", \"come\", \"day\", \"easy\", \"fall\", \"find\", \"fit\", \"fit\", \"get\", \"get\", \"gift\", \"go\", \"good\", \"great\", \"happy\", \"hard\", \"issue\", \"item\", \"light\", \"like\", \"like\", \"long\", \"look\", \"love\", \"money\", \"month\", \"month\", \"new\", \"nice\", \"old\", \"order\", \"order\", \"package\", \"perfect\", \"picture\", \"price\", \"product\", \"product\", \"purchase\", \"purchase\", \"quality\", \"read\", \"receive\", \"recommend\", \"return\", \"review\", \"right\", \"say\", \"set\", \"size\", \"size\", \"small\", \"start\", \"stick\", \"sure\", \"take\", \"time\", \"time\", \"try\", \"use\", \"use\", \"want\", \"waste\", \"water\", \"way\", \"wear\", \"week\", \"work\", \"work\", \"year\"]}, \"R\": 30, \"lambda.step\": 0.01, \"plot.opts\": {\"xlab\": \"PC1\", \"ylab\": \"PC2\"}, \"topic.order\": [1, 2]};\n",
       "\n",
       "function LDAvis_load_lib(url, callback){\n",
       "  var s = document.createElement('script');\n",
       "  s.src = url;\n",
       "  s.async = true;\n",
       "  s.onreadystatechange = s.onload = callback;\n",
       "  s.onerror = function(){console.warn(\"failed to load library \" + url);};\n",
       "  document.getElementsByTagName(\"head\")[0].appendChild(s);\n",
       "}\n",
       "\n",
       "if(typeof(LDAvis) !== \"undefined\"){\n",
       "   // already loaded: just create the visualization\n",
       "   !function(LDAvis){\n",
       "       new LDAvis(\"#\" + \"ldavis_el1005053879037125337732176\", ldavis_el1005053879037125337732176_data);\n",
       "   }(LDAvis);\n",
       "}else if(typeof define === \"function\" && define.amd){\n",
       "   // require.js is available: use it to load d3/LDAvis\n",
       "   require.config({paths: {d3: \"https://d3js.org/d3.v5\"}});\n",
       "   require([\"d3\"], function(d3){\n",
       "      window.d3 = d3;\n",
       "      LDAvis_load_lib(\"https://cdn.jsdelivr.net/gh/bmabey/pyLDAvis@3.3.1/pyLDAvis/js/ldavis.v3.0.0.js\", function(){\n",
       "        new LDAvis(\"#\" + \"ldavis_el1005053879037125337732176\", ldavis_el1005053879037125337732176_data);\n",
       "      });\n",
       "    });\n",
       "}else{\n",
       "    // require.js not available: dynamically load d3 & LDAvis\n",
       "    LDAvis_load_lib(\"https://d3js.org/d3.v5.js\", function(){\n",
       "         LDAvis_load_lib(\"https://cdn.jsdelivr.net/gh/bmabey/pyLDAvis@3.3.1/pyLDAvis/js/ldavis.v3.0.0.js\", function(){\n",
       "                 new LDAvis(\"#\" + \"ldavis_el1005053879037125337732176\", ldavis_el1005053879037125337732176_data);\n",
       "            })\n",
       "         });\n",
       "}\n",
       "</script>"
      ],
      "text/plain": [
       "<IPython.core.display.HTML object>"
      ]
     },
     "execution_count": 10,
     "metadata": {},
     "output_type": "execute_result"
    }
   ],
   "source": [
    "model.train(data=data)"
   ]
  }
 ],
 "metadata": {
  "interpreter": {
   "hash": "fbe3056ddfc4b36596b2e3474972e3f1a3754ef1dc18c2bda31aeffbb1960dd1"
  },
  "kernelspec": {
   "display_name": "Python 3.9.5 64-bit ('venv': venv)",
   "name": "python3"
  },
  "language_info": {
   "codemirror_mode": {
    "name": "ipython",
    "version": 3
   },
   "file_extension": ".py",
   "mimetype": "text/x-python",
   "name": "python",
   "nbconvert_exporter": "python",
   "pygments_lexer": "ipython3",
   "version": "3.9.5"
  },
  "orig_nbformat": 4
 },
 "nbformat": 4,
 "nbformat_minor": 2
}
